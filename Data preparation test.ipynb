{
 "cells": [
  {
   "cell_type": "markdown",
   "id": "bbdd34c1",
   "metadata": {},
   "source": [
    "### Loading data"
   ]
  },
  {
   "cell_type": "code",
   "execution_count": 1,
   "id": "de0b2eba",
   "metadata": {},
   "outputs": [],
   "source": [
    "import pandas as pd\n",
    "import numpy as np\n",
    "import seaborn as sns\n",
    "\n",
    "import requests\n",
    "from bs4 import BeautifulSoup\n",
    "\n",
    "%matplotlib inline\n",
    "import matplotlib\n",
    "\n",
    "import re"
   ]
  },
  {
   "cell_type": "markdown",
   "id": "8e70dfff",
   "metadata": {},
   "source": [
    "**Import data** - Only Data from the last two and a half years are processed, as according to this article: https://igamingbusiness.com/esports/how-much-league-of-legends-data-is-enough-data/ this is the most sensible with the bi-weekly patches the game receives (changes to the game)"
   ]
  },
  {
   "cell_type": "code",
   "execution_count": 2,
   "id": "f42135bb",
   "metadata": {
    "scrolled": true
   },
   "outputs": [
    {
     "name": "stderr",
     "output_type": "stream",
     "text": [
      "/tmp/ipykernel_1062/3943291304.py:2: DtypeWarning: Columns (2) have mixed types. Specify dtype option on import or set low_memory=False.\n",
      "  df_2022 = pd.read_csv('raw_data/2022_LoL_esports_Data.csv', parse_dates=['date'])\n",
      "/tmp/ipykernel_1062/3943291304.py:3: DtypeWarning: Columns (2) have mixed types. Specify dtype option on import or set low_memory=False.\n",
      "  df_2023 = pd.read_csv('raw_data/2023_LoL_esports_Data.csv', parse_dates=['date'])\n"
     ]
    }
   ],
   "source": [
    "df_2021 = pd.read_csv('raw_data/2021_LoL_esports_Data.csv', parse_dates=['date'])\n",
    "df_2022 = pd.read_csv('raw_data/2022_LoL_esports_Data.csv', parse_dates=['date'])\n",
    "df_2023 = pd.read_csv('raw_data/2023_LoL_esports_Data.csv', parse_dates=['date'])"
   ]
  },
  {
   "cell_type": "markdown",
   "id": "66e4ccdf",
   "metadata": {},
   "source": [
    "**Loading champion winrates**"
   ]
  },
  {
   "cell_type": "code",
   "execution_count": 3,
   "id": "d38c46cb",
   "metadata": {},
   "outputs": [],
   "source": [
    "url = \"https://www.metasrc.com/5v5/stats?ranks=challenger\"\n",
    "r = requests.get(url)\n",
    "andres = BeautifulSoup(r.text)\n",
    "options = andres.find(\"select\",id=\"patch\").find_all(\"option\")\n",
    "\n",
    "def get_champion_data(url):\n",
    "    r = requests.get(url)\n",
    "    return pd.read_html(r.text)[0]\n",
    "\n",
    "urls = []  # create an empty list to store the URLs\n",
    "for option in options:\n",
    "    value = option[\"value\"]\n",
    "    if float(value) >= 12.1:\n",
    "        url = f\"https://www.metasrc.com/5v5/{value}/stats?ranks=challenger\"\n",
    "        urls.append(url)\n",
    "        new_value = value.replace(\".\",\"_\")\n",
    "        get_champion_data(url).to_csv(f\"Champions_dataframe/patch_{new_value}.csv\")\n",
    "        \n",
    "        \n",
    "urls = []\n",
    "for option in options:\n",
    "    value = option[\"value\"]\n",
    "    if float(value) >= 12.1:\n",
    "        url = f\"https://www.metasrc.com/5v5/{value}/stats?ranks=challenger\"\n",
    "        new_value = value.replace(\".\", \"_\")\n",
    "        champion_data = get_champion_data(url)\n",
    "        champion_data[\"patch\"] = value\n",
    "        champion_data = champion_data[[\"Name\", \"Win %\", \"patch\"]]\n",
    "        champion_data.to_csv(f\"Champions_dataframe/patch_{new_value}.csv\")\n",
    "        urls.append(champion_data)\n",
    "\n",
    "# concatenate all the data frames into a single data frame\n",
    "final_df = pd.concat(urls, ignore_index=True)\n",
    "\n",
    "# save the final data frame to a single CSV file\n",
    "final_df.to_csv(\"Champions_dataframe/all_patches.csv\", index=False)"
   ]
  },
  {
   "cell_type": "code",
   "execution_count": 4,
   "id": "e554f663",
   "metadata": {},
   "outputs": [],
   "source": [
    "final_df[\"Win%\"] = final_df[\"Win %\"].str.rstrip('%')\n",
    "\n",
    "final_df[\"Win%\"] = pd.to_numeric(final_df[\"Win%\"])\n",
    "\n",
    "grouped_df = final_df.groupby([\"patch\", \"Name\"])[\"Win%\"].mean().reset_index()\n",
    "\n",
    "grouped_df.to_pickle(\"Champions_dataframe/win_and_champions_patch.pickle\")\n",
    "\n",
    "champions_wr_overview = grouped_df\n",
    "\n",
    "output = []\n",
    "\n",
    "for i in champions_wr_overview[\"Name\"]:\n",
    "    text = i\n",
    "    output.append(text[:len(text)//2])\n",
    "\n",
    "champions_wr_overview[\"name_clean\"] = output\n",
    "champions_wr_overview = champions_wr_overview.drop(\"Name\", axis=1)"
   ]
  },
  {
   "cell_type": "code",
   "execution_count": 5,
   "id": "b2c5cff4",
   "metadata": {},
   "outputs": [],
   "source": [
    "champions_wr_overview = grouped_df\n",
    "\n",
    "output = []\n",
    "\n",
    "for i in champions_wr_overview[\"Name\"]:\n",
    "    text = i\n",
    "    output.append(text[:len(text)//2])\n",
    "\n",
    "champions_wr_overview[\"name_clean\"] = output\n",
    "champions_wr_overview = champions_wr_overview.drop(\"Name\", axis=1)\n",
    "champions_wr_overview = champions_wr_overview.replace(['Nunu'], 'Eskimo')"
   ]
  },
  {
   "cell_type": "markdown",
   "id": "14874d41",
   "metadata": {},
   "source": [
    "**Filter data for most important leagues and team data only**"
   ]
  },
  {
   "cell_type": "code",
   "execution_count": 6,
   "id": "7b95aff1",
   "metadata": {},
   "outputs": [],
   "source": [
    "leagues_to_filter = [\"LCS\", \"LEC\", \"LPL\", \"LCK\", \"PCS\", \"CBLOL\", \"LLA\"]\n",
    "\n",
    "# Filter the dataframe to include only the specified leagues\n",
    "league_filtered_df_2021 = df_2021.loc[df_2021['league'].isin(leagues_to_filter)]\n",
    "league_filtered_df_2022 = df_2022.loc[df_2022['league'].isin(leagues_to_filter)]\n",
    "league_filtered_df_2023 = df_2023.loc[df_2023['league'].isin(leagues_to_filter)]\n",
    "\n",
    "# Filter the dataframe to only include team-based data (not individual)\n",
    "filtered_df_2021 = league_filtered_df_2021.loc[league_filtered_df_2021['position'].isin([\"team\"])]\n",
    "filtered_df_2022 = league_filtered_df_2022.loc[league_filtered_df_2022['position'].isin([\"team\"])]\n",
    "filtered_df_2023 = league_filtered_df_2023.loc[league_filtered_df_2023['position'].isin([\"team\"])]\n",
    "\n",
    "# Concat the data for full live data\n",
    "full_data = pd.concat([df_2022, df_2023])\n",
    "\n",
    "# Filter the dataframe to only include champion data\n",
    "\n",
    "patch_information = full_data.loc[full_data['participantid'].isin([1])].set_index('gameid')['patch']\n",
    "champion_1 = full_data.loc[full_data['participantid'].isin([1])].set_index('gameid')['champion']\n",
    "champion_2 = full_data.loc[full_data['participantid'].isin([2])].set_index('gameid')['champion']\n",
    "champion_3 = full_data.loc[full_data['participantid'].isin([3])].set_index('gameid')['champion']\n",
    "champion_4 = full_data.loc[full_data['participantid'].isin([4])].set_index('gameid')['champion']\n",
    "champion_5 = full_data.loc[full_data['participantid'].isin([5])].set_index('gameid')['champion']\n",
    "champion_6 = full_data.loc[full_data['participantid'].isin([6])].set_index('gameid')['champion']\n",
    "champion_7 = full_data.loc[full_data['participantid'].isin([7])].set_index('gameid')['champion']\n",
    "champion_8 = full_data.loc[full_data['participantid'].isin([8])].set_index('gameid')['champion']\n",
    "champion_9 = full_data.loc[full_data['participantid'].isin([9])].set_index('gameid')['champion']\n",
    "champion_10 = full_data.loc[full_data['participantid'].isin([10])].set_index('gameid')['champion']\n",
    "\n",
    "champions_list = [patch_information,champion_1, \n",
    "               champion_2,\n",
    "               champion_3,\n",
    "               champion_4,\n",
    "               champion_5,\n",
    "               champion_6,\n",
    "               champion_7,\n",
    "               champion_8,\n",
    "               champion_9,\n",
    "               champion_10]\n",
    "\n",
    "# Filter the dataframe to only include played id data\n",
    "\n",
    "patch_information = full_data.loc[full_data['participantid'].isin([1])].set_index('gameid')['patch']\n",
    "player_1 = full_data.loc[full_data['participantid'].isin([1])].set_index('gameid')['playerid']\n",
    "player_2 = full_data.loc[full_data['participantid'].isin([2])].set_index('gameid')['playerid']\n",
    "player_3 = full_data.loc[full_data['participantid'].isin([3])].set_index('gameid')['playerid']\n",
    "player_4 = full_data.loc[full_data['participantid'].isin([4])].set_index('gameid')['playerid']\n",
    "player_5 = full_data.loc[full_data['participantid'].isin([5])].set_index('gameid')['playerid']\n",
    "player_6 = full_data.loc[full_data['participantid'].isin([6])].set_index('gameid')['playerid']\n",
    "player_7 = full_data.loc[full_data['participantid'].isin([7])].set_index('gameid')['playerid']\n",
    "player_8 = full_data.loc[full_data['participantid'].isin([8])].set_index('gameid')['playerid']\n",
    "player_9 = full_data.loc[full_data['participantid'].isin([9])].set_index('gameid')['playerid']\n",
    "player_10 = full_data.loc[full_data['participantid'].isin([10])].set_index('gameid')['playerid']\n",
    "\n",
    "playerids_list = [patch_information,player_1, \n",
    "               player_2,\n",
    "               player_3,\n",
    "               player_4,\n",
    "               player_5,\n",
    "               player_6,\n",
    "               player_7,\n",
    "               player_8,\n",
    "               player_9,\n",
    "               player_10]\n"
   ]
  },
  {
   "cell_type": "code",
   "execution_count": 7,
   "id": "8c515b39",
   "metadata": {},
   "outputs": [],
   "source": [
    "for i, series in enumerate(champions_list):\n",
    "    if i == 0:   \n",
    "        champions = pd.DataFrame(series)\n",
    "        champions.columns = [\"patch\"]\n",
    "    else:\n",
    "        champions[f\"player_{i}\"] = series\n",
    "        \n",
    "champions = champions.dropna(axis=0)\n",
    "champions = champions.replace(['Nunu & Willump'], 'Eskimo')"
   ]
  },
  {
   "cell_type": "code",
   "execution_count": 8,
   "id": "e4114901",
   "metadata": {},
   "outputs": [],
   "source": [
    "for i, series in enumerate(playerids_list):\n",
    "    if i == 0:   \n",
    "        players = pd.DataFrame(series)\n",
    "        players.columns = [\"patch\"]\n",
    "    else:\n",
    "        players[f\"player_{i}\"] = series"
   ]
  },
  {
   "cell_type": "markdown",
   "id": "4d755c0e",
   "metadata": {},
   "source": [
    "**Historic experience**"
   ]
  },
  {
   "cell_type": "code",
   "execution_count": 9,
   "id": "5a81e0ce",
   "metadata": {},
   "outputs": [],
   "source": [
    "# 2021\n",
    "\n",
    "tmp = league_filtered_df_2021.loc[league_filtered_df_2021['participantid'].isin([1, 2, 3, 4, 5, 6, 7, 8, 9, 10])]\n",
    "tmp = tmp[['date', 'gameid', 'playerid', 'champion']].reset_index()\n",
    "tmp = tmp.dropna()\n",
    "tmp = tmp.set_index(['playerid', 'date', 'gameid', 'champion'])\n",
    "\n",
    "historic_experience_2021 = tmp.groupby(['playerid']).count()"
   ]
  },
  {
   "cell_type": "code",
   "execution_count": 10,
   "id": "7e2d2108",
   "metadata": {},
   "outputs": [],
   "source": [
    "# 2022\n",
    "\n",
    "tmp = league_filtered_df_2022.loc[league_filtered_df_2022['participantid'].isin([1, 2, 3, 4, 5, 6, 7, 8, 9, 10])]\n",
    "tmp = tmp[['date', 'gameid', 'playerid', 'champion']].reset_index()\n",
    "tmp = tmp.dropna()\n",
    "tmp = tmp.set_index(['playerid', 'date', 'gameid', 'champion'])\n",
    "\n",
    "historic_experience_2022 = tmp.groupby(['playerid']).count()"
   ]
  },
  {
   "cell_type": "markdown",
   "id": "b6c5fbb3",
   "metadata": {},
   "source": [
    "**Dynamic experience**"
   ]
  },
  {
   "cell_type": "code",
   "execution_count": 11,
   "id": "6a411202",
   "metadata": {},
   "outputs": [],
   "source": [
    "# 2022\n",
    "\n",
    "tmp = league_filtered_df_2022.loc[league_filtered_df_2022['participantid'].isin([1, 2, 3, 4, 5, 6, 7, 8, 9, 10])]\n",
    "tmp = tmp[['date', 'playerid', 'gameid', 'result']].reset_index().set_index(['playerid', 'date']).sort_index()\n",
    "tmp = tmp.dropna()\n",
    "player_games_played = pd.DataFrame()\n",
    "\n",
    "# Need to adapt, so that the information is as before the game\n",
    "player_games_played['total_games'] = tmp.groupby('playerid')['result'].cumcount()\n",
    "tmp = pd.merge(tmp, player_games_played,  how='left', left_on=['date','playerid'], right_on = ['date','playerid'])\n",
    "\n",
    "experience_2022 = tmp"
   ]
  },
  {
   "cell_type": "code",
   "execution_count": 12,
   "id": "91e45642",
   "metadata": {},
   "outputs": [],
   "source": [
    "# 2022\n",
    "\n",
    "tmp = league_filtered_df_2023.loc[league_filtered_df_2023['participantid'].isin([1, 2, 3, 4, 5, 6, 7, 8, 9, 10])]\n",
    "tmp = tmp[['date', 'playerid', 'gameid', 'result']].reset_index().set_index(['playerid', 'date']).sort_index()\n",
    "tmp = tmp.dropna()\n",
    "player_games_played = pd.DataFrame()\n",
    "\n",
    "# Need to adapt, so that the information is as before the game\n",
    "player_games_played['total_games'] = tmp.groupby('playerid')['result'].cumcount()\n",
    "tmp = pd.merge(tmp, player_games_played,  how='left', left_on=['date','playerid'], right_on = ['date','playerid'])\n",
    "\n",
    "experience_2023 = tmp"
   ]
  },
  {
   "cell_type": "code",
   "execution_count": 13,
   "id": "2c85085d",
   "metadata": {},
   "outputs": [],
   "source": [
    "mixed_exp_2022 = pd.merge(experience_2022.reset_index(), historic_experience_2021, how='left', left_on='playerid', right_on='playerid')\n",
    "mixed_exp_2022 = mixed_exp_2022.fillna(value=0)\n",
    "mixed_exp_2022['experience'] = mixed_exp_2022['total_games'] + mixed_exp_2022['index_y']\n",
    "\n",
    "mixed_exp_2023 = pd.merge(experience_2023.reset_index(), historic_experience_2022, how='left', left_on='playerid', right_on='playerid')\n",
    "mixed_exp_2023 = mixed_exp_2023.fillna(value=0)\n",
    "mixed_exp_2023['experience'] = mixed_exp_2023['total_games'] + mixed_exp_2023['index_y']\n",
    "\n",
    "experience = pd.concat([mixed_exp_2022, mixed_exp_2023], ignore_index=True).set_index(['gameid', 'playerid'])['experience']"
   ]
  },
  {
   "cell_type": "code",
   "execution_count": 14,
   "id": "fc222e3b",
   "metadata": {},
   "outputs": [],
   "source": [
    "exp_1 = pd.merge(players.reset_index(), experience, left_on=['gameid', 'player_1'], right_on=['gameid', 'playerid'])['experience']\n",
    "exp_2 = pd.merge(players.reset_index(), experience, left_on=['gameid', 'player_2'], right_on=['gameid', 'playerid'])['experience']\n",
    "exp_3 = pd.merge(players.reset_index(), experience, left_on=['gameid', 'player_3'], right_on=['gameid', 'playerid'])['experience']\n",
    "exp_4 = pd.merge(players.reset_index(), experience, left_on=['gameid', 'player_4'], right_on=['gameid', 'playerid'])['experience']\n",
    "exp_5 = pd.merge(players.reset_index(), experience, left_on=['gameid', 'player_5'], right_on=['gameid', 'playerid'])['experience']\n",
    "exp_6 = pd.merge(players.reset_index(), experience, left_on=['gameid', 'player_6'], right_on=['gameid', 'playerid'])['experience']\n",
    "exp_7 = pd.merge(players.reset_index(), experience, left_on=['gameid', 'player_7'], right_on=['gameid', 'playerid'])['experience']\n",
    "exp_8 = pd.merge(players.reset_index(), experience, left_on=['gameid', 'player_8'], right_on=['gameid', 'playerid'])['experience']\n",
    "exp_9 = pd.merge(players.reset_index(), experience, left_on=['gameid', 'player_9'], right_on=['gameid', 'playerid'])['experience']\n",
    "exp_10 = pd.merge(players.reset_index(), experience, left_on=['gameid', 'player_10'], right_on=['gameid', 'playerid'])['experience']\n",
    "\n",
    "exp_list = [\n",
    "    champions.reset_index()['gameid'],\n",
    "    exp_1,\n",
    "    exp_2,\n",
    "    exp_3,\n",
    "    exp_4,\n",
    "    exp_5,\n",
    "    exp_6,\n",
    "    exp_7,\n",
    "    exp_8,\n",
    "    exp_9,\n",
    "    exp_10,\n",
    "]"
   ]
  },
  {
   "cell_type": "code",
   "execution_count": 15,
   "id": "af5b2fc5",
   "metadata": {},
   "outputs": [],
   "source": [
    "for i, series in enumerate(exp_list):\n",
    "    if i == 0:   \n",
    "        exp = pd.DataFrame(series)\n",
    "        exp.columns = [\"gameid\"]\n",
    "    else:\n",
    "        exp[f\"player_{i}\"] = series\n",
    "        \n",
    "exp = exp.fillna(value=0)"
   ]
  },
  {
   "cell_type": "code",
   "execution_count": 16,
   "id": "17d0b44f",
   "metadata": {},
   "outputs": [],
   "source": [
    "exp['avg_blue_exp'] = (exp['player_1'] + exp['player_2'] + exp['player_3'] + exp['player_4'] + exp['player_5'])/5"
   ]
  },
  {
   "cell_type": "code",
   "execution_count": 17,
   "id": "7bb20987",
   "metadata": {},
   "outputs": [],
   "source": [
    "exp['avg_red_exp'] = (exp['player_6'] + exp['player_7'] + exp['player_8'] + exp['player_9'] + exp['player_10'])/5"
   ]
  },
  {
   "cell_type": "code",
   "execution_count": 18,
   "id": "90f059c7",
   "metadata": {},
   "outputs": [],
   "source": [
    "exp['exp_diff'] = exp['avg_blue_exp'] - exp['avg_red_exp']"
   ]
  },
  {
   "cell_type": "code",
   "execution_count": 19,
   "id": "99024960",
   "metadata": {},
   "outputs": [],
   "source": [
    "exp = exp[['gameid', 'exp_diff']]"
   ]
  },
  {
   "cell_type": "code",
   "execution_count": 20,
   "id": "5f1a02f8",
   "metadata": {},
   "outputs": [
    {
     "data": {
      "text/html": [
       "<div>\n",
       "<style scoped>\n",
       "    .dataframe tbody tr th:only-of-type {\n",
       "        vertical-align: middle;\n",
       "    }\n",
       "\n",
       "    .dataframe tbody tr th {\n",
       "        vertical-align: top;\n",
       "    }\n",
       "\n",
       "    .dataframe thead th {\n",
       "        text-align: right;\n",
       "    }\n",
       "</style>\n",
       "<table border=\"1\" class=\"dataframe\">\n",
       "  <thead>\n",
       "    <tr style=\"text-align: right;\">\n",
       "      <th></th>\n",
       "      <th>gameid</th>\n",
       "      <th>exp_diff</th>\n",
       "    </tr>\n",
       "  </thead>\n",
       "  <tbody>\n",
       "    <tr>\n",
       "      <th>0</th>\n",
       "      <td>ESPORTSTMNT01_2690210</td>\n",
       "      <td>28.2</td>\n",
       "    </tr>\n",
       "    <tr>\n",
       "      <th>1</th>\n",
       "      <td>ESPORTSTMNT01_2690219</td>\n",
       "      <td>28.2</td>\n",
       "    </tr>\n",
       "    <tr>\n",
       "      <th>2</th>\n",
       "      <td>8401-8401_game_1</td>\n",
       "      <td>-42.4</td>\n",
       "    </tr>\n",
       "    <tr>\n",
       "      <th>3</th>\n",
       "      <td>ESPORTSTMNT01_2690227</td>\n",
       "      <td>-42.4</td>\n",
       "    </tr>\n",
       "    <tr>\n",
       "      <th>4</th>\n",
       "      <td>8401-8401_game_2</td>\n",
       "      <td>42.4</td>\n",
       "    </tr>\n",
       "    <tr>\n",
       "      <th>...</th>\n",
       "      <td>...</td>\n",
       "      <td>...</td>\n",
       "    </tr>\n",
       "    <tr>\n",
       "      <th>16566</th>\n",
       "      <td>ESPORTSTMNT01_3334332</td>\n",
       "      <td>0.0</td>\n",
       "    </tr>\n",
       "    <tr>\n",
       "      <th>16567</th>\n",
       "      <td>ESPORTSTMNT06_2778084</td>\n",
       "      <td>0.0</td>\n",
       "    </tr>\n",
       "    <tr>\n",
       "      <th>16568</th>\n",
       "      <td>ESPORTSTMNT01_3334356</td>\n",
       "      <td>0.0</td>\n",
       "    </tr>\n",
       "    <tr>\n",
       "      <th>16569</th>\n",
       "      <td>ESPORTSTMNT01_3333424</td>\n",
       "      <td>0.0</td>\n",
       "    </tr>\n",
       "    <tr>\n",
       "      <th>16570</th>\n",
       "      <td>ESPORTSTMNT06_2777123</td>\n",
       "      <td>0.0</td>\n",
       "    </tr>\n",
       "  </tbody>\n",
       "</table>\n",
       "<p>16571 rows × 2 columns</p>\n",
       "</div>"
      ],
      "text/plain": [
       "                      gameid  exp_diff\n",
       "0      ESPORTSTMNT01_2690210      28.2\n",
       "1      ESPORTSTMNT01_2690219      28.2\n",
       "2           8401-8401_game_1     -42.4\n",
       "3      ESPORTSTMNT01_2690227     -42.4\n",
       "4           8401-8401_game_2      42.4\n",
       "...                      ...       ...\n",
       "16566  ESPORTSTMNT01_3334332       0.0\n",
       "16567  ESPORTSTMNT06_2778084       0.0\n",
       "16568  ESPORTSTMNT01_3334356       0.0\n",
       "16569  ESPORTSTMNT01_3333424       0.0\n",
       "16570  ESPORTSTMNT06_2777123       0.0\n",
       "\n",
       "[16571 rows x 2 columns]"
      ]
     },
     "execution_count": 20,
     "metadata": {},
     "output_type": "execute_result"
    }
   ],
   "source": [
    "exp"
   ]
  },
  {
   "cell_type": "markdown",
   "id": "166bbb06",
   "metadata": {},
   "source": [
    "### Derivation of the \"Win Rate Difference\" Parameter"
   ]
  },
  {
   "cell_type": "markdown",
   "id": "e0d94cc6",
   "metadata": {},
   "source": [
    "**Calculate historical win rate, defined as overall performance in last season**"
   ]
  },
  {
   "cell_type": "code",
   "execution_count": 21,
   "id": "0e2bbe20",
   "metadata": {},
   "outputs": [],
   "source": [
    "# Group the DataFrame by team_id and count the number of games played\n",
    "games_played_2022 = filtered_df_2022.groupby('teamid')['result'].count()\n",
    "games_played_2021 = filtered_df_2021.groupby('teamid')['result'].count()\n",
    "\n",
    "# Group the DataFrame by team_id and count the number of wins\n",
    "wins_2022 = filtered_df_2022.groupby('teamid')['result'].sum()\n",
    "wins_2021 = filtered_df_2021.groupby('teamid')['result'].sum()\n",
    "\n",
    "# Calculate the win rate for each team\n",
    "win_rates_in_2022 = (wins_2022 / games_played_2022) * 100\n",
    "win_rates_in_2021 = (wins_2021 / games_played_2021) * 100"
   ]
  },
  {
   "cell_type": "code",
   "execution_count": 22,
   "id": "d365b40b",
   "metadata": {},
   "outputs": [],
   "source": [
    "tmp_1 = pd.DataFrame(filtered_df_2022.groupby('teamid').count().iloc[:, 0])\n",
    "tmp_2 = pd.DataFrame(filtered_df_2023.groupby('teamid').count().iloc[:, 0])\n",
    "\n",
    "historical_wr_2022 = pd.merge(tmp_1, win_rates_in_2021, how='left', left_index=True, right_index=True)\n",
    "historical_wr_2023 = pd.merge(tmp_2, win_rates_in_2022, how='left', left_index=True, right_index=True)\n",
    "\n",
    "historical_wr_2022.fillna(value=historical_wr_2022['result'].mean(), inplace=True)\n",
    "historical_wr_2023.fillna(value=historical_wr_2023['result'].mean(), inplace=True)"
   ]
  },
  {
   "cell_type": "markdown",
   "id": "e5f14c7b",
   "metadata": {},
   "source": [
    "**Calculate dynamic win rate throughout the season, defined as games won divided by games played so far this season**"
   ]
  },
  {
   "cell_type": "code",
   "execution_count": 23,
   "id": "759195f9",
   "metadata": {},
   "outputs": [],
   "source": [
    "# Number of games until only current season counts as win rate:\n",
    "n_games = 10"
   ]
  },
  {
   "cell_type": "code",
   "execution_count": 24,
   "id": "169fbd1b",
   "metadata": {},
   "outputs": [],
   "source": [
    "# 2022\n",
    "tmp = filtered_df_2022[['date', 'teamid', 'gameid', 'result']].reset_index().set_index(['teamid', 'date']).sort_index()\n",
    "games_played_dynamic = pd.DataFrame()\n",
    "\n",
    "# Need to adapt, so that the information is as before the game\n",
    "games_played_dynamic['total_games'] = tmp.groupby('teamid')['result'].cumcount()\n",
    "games_played_dynamic['dynamic_weighting'] = np.clip(0, games_played_dynamic['total_games']/n_games, 1) # dynamic weighting factor\n",
    "games_won_dynamic = pd.DataFrame(tmp.groupby('teamid')['result'].shift()).groupby('teamid')['result'].cumsum()\n",
    "\n",
    "tmp = pd.merge(tmp, games_played_dynamic,  how='left', left_on=['date','teamid'], right_on = ['date','teamid'])\n",
    "tmp = pd.merge(tmp, games_won_dynamic, how='left', left_on=['date','teamid'], right_on = ['date','teamid'])\n",
    "tmp['dynamic_wr'] = tmp['result_y'] / tmp['total_games'] * 100\n",
    "\n",
    "# If no data available (new teams) replace with average of 50%\n",
    "tmp['dynamic_wr'] = tmp['dynamic_wr'].replace([np.inf, -np.inf], np.nan)\n",
    "tmp['dynamic_wr'] = tmp['dynamic_wr'].fillna(value=50)\n",
    "\n",
    "dynamic_wr_2022 = tmp\n",
    "\n",
    "# 2023\n",
    "tmp = filtered_df_2023[['date', 'teamid', 'gameid', 'result']].reset_index().set_index(['teamid', 'date']).sort_index()\n",
    "games_played_dynamic = pd.DataFrame()\n",
    "\n",
    "# Need to adapt, so that the information is as before the game\n",
    "games_played_dynamic['total_games'] = tmp.groupby('teamid')['result'].cumcount()\n",
    "games_played_dynamic['dynamic_weighting'] = np.clip(0, games_played_dynamic['total_games']/n_games, 1) # dynamic weighting factor\n",
    "games_won_dynamic = pd.DataFrame(tmp.groupby('teamid')['result'].shift()).groupby('teamid')['result'].cumsum()\n",
    "\n",
    "tmp = pd.merge(tmp, games_played_dynamic,  how='left', left_on=['date','teamid'], right_on = ['date','teamid'])\n",
    "tmp = pd.merge(tmp, games_won_dynamic, how='left', left_on=['date','teamid'], right_on = ['date','teamid'])\n",
    "tmp['dynamic_wr'] = tmp['result_y'] / tmp['total_games'] * 100\n",
    "\n",
    "# If no data available (new teams) replace with average of 50%\n",
    "tmp['dynamic_wr'] = tmp['dynamic_wr'].replace([np.inf, -np.inf], np.nan)\n",
    "tmp['dynamic_wr'] = tmp['dynamic_wr'].fillna(value=50)\n",
    "\n",
    "dynamic_wr_2023 = tmp"
   ]
  },
  {
   "cell_type": "markdown",
   "id": "4971bed0",
   "metadata": {},
   "source": [
    "**Mixing historical and dynamic win rate to arrive at an expected win rate prior to the game**"
   ]
  },
  {
   "cell_type": "code",
   "execution_count": 25,
   "id": "5864ee08",
   "metadata": {},
   "outputs": [],
   "source": [
    "wr_2022 = pd.merge(dynamic_wr_2022, historical_wr_2022, how='left', left_on='teamid', right_on='teamid').reset_index()\n",
    "wr_2022['mixed_wr'] = wr_2022['dynamic_wr'] * wr_2022['dynamic_weighting'] + wr_2022['result'] * (1 - wr_2022['dynamic_weighting'])\n",
    "\n",
    "\n",
    "wr_2023 = pd.merge(dynamic_wr_2023, historical_wr_2023, how='left', left_on='teamid', right_on='teamid').reset_index()\n",
    "wr_2023['mixed_wr'] = wr_2023['dynamic_wr'] * wr_2022['dynamic_weighting'] + wr_2023['result'] * (1 - wr_2022['dynamic_weighting'])\n",
    "\n",
    "wr = pd.concat([wr_2022, wr_2023], ignore_index=True).set_index(['gameid_x', 'teamid'])['mixed_wr']"
   ]
  },
  {
   "cell_type": "markdown",
   "id": "4b410cc4",
   "metadata": {},
   "source": [
    "### Derivation of the \"Gold spend difference percentage\" parameter"
   ]
  },
  {
   "cell_type": "markdown",
   "id": "f1fa83ec",
   "metadata": {},
   "source": [
    "**Historical gspd**"
   ]
  },
  {
   "cell_type": "code",
   "execution_count": 26,
   "id": "e63a8446",
   "metadata": {},
   "outputs": [
    {
     "data": {
      "text/html": [
       "<div>\n",
       "<style scoped>\n",
       "    .dataframe tbody tr th:only-of-type {\n",
       "        vertical-align: middle;\n",
       "    }\n",
       "\n",
       "    .dataframe tbody tr th {\n",
       "        vertical-align: top;\n",
       "    }\n",
       "\n",
       "    .dataframe thead th {\n",
       "        text-align: right;\n",
       "    }\n",
       "</style>\n",
       "<table border=\"1\" class=\"dataframe\">\n",
       "  <thead>\n",
       "    <tr style=\"text-align: right;\">\n",
       "      <th></th>\n",
       "      <th>gameid</th>\n",
       "      <th>gspd</th>\n",
       "    </tr>\n",
       "    <tr>\n",
       "      <th>teamid</th>\n",
       "      <th></th>\n",
       "      <th></th>\n",
       "    </tr>\n",
       "  </thead>\n",
       "  <tbody>\n",
       "    <tr>\n",
       "      <th>oe:team:056c3140a119e44a03d462e2c832f27</th>\n",
       "      <td>39</td>\n",
       "      <td>4.796039</td>\n",
       "    </tr>\n",
       "    <tr>\n",
       "      <th>oe:team:0916b3c324c8577b0c6344f3e067f62</th>\n",
       "      <td>22</td>\n",
       "      <td>11.244567</td>\n",
       "    </tr>\n",
       "    <tr>\n",
       "      <th>oe:team:0a9aa50beea19fcbc6b939fe6b94f08</th>\n",
       "      <td>14</td>\n",
       "      <td>1.278197</td>\n",
       "    </tr>\n",
       "    <tr>\n",
       "      <th>oe:team:0b27fc98592297c4441bce44760a642</th>\n",
       "      <td>6</td>\n",
       "      <td>0.000000</td>\n",
       "    </tr>\n",
       "    <tr>\n",
       "      <th>oe:team:0b65555ba9e97910fc1e7264a99fa24</th>\n",
       "      <td>45</td>\n",
       "      <td>-3.078771</td>\n",
       "    </tr>\n",
       "    <tr>\n",
       "      <th>...</th>\n",
       "      <td>...</td>\n",
       "      <td>...</td>\n",
       "    </tr>\n",
       "    <tr>\n",
       "      <th>oe:team:f73cbd69433514d61cf7c9cd0f5123a</th>\n",
       "      <td>44</td>\n",
       "      <td>0.000000</td>\n",
       "    </tr>\n",
       "    <tr>\n",
       "      <th>oe:team:f7c0f545d3fc1860239d04b3ebe97f8</th>\n",
       "      <td>18</td>\n",
       "      <td>-15.077901</td>\n",
       "    </tr>\n",
       "    <tr>\n",
       "      <th>oe:team:f7f7324c151aa6ed770b244ce08e027</th>\n",
       "      <td>22</td>\n",
       "      <td>5.444246</td>\n",
       "    </tr>\n",
       "    <tr>\n",
       "      <th>oe:team:fc8e90107dabb9a35c490b0d86adea0</th>\n",
       "      <td>23</td>\n",
       "      <td>4.214634</td>\n",
       "    </tr>\n",
       "    <tr>\n",
       "      <th>oe:team:fcec508e780bbd1ad493852640f5b36</th>\n",
       "      <td>38</td>\n",
       "      <td>3.974877</td>\n",
       "    </tr>\n",
       "  </tbody>\n",
       "</table>\n",
       "<p>77 rows × 2 columns</p>\n",
       "</div>"
      ],
      "text/plain": [
       "                                         gameid       gspd\n",
       "teamid                                                    \n",
       "oe:team:056c3140a119e44a03d462e2c832f27      39   4.796039\n",
       "oe:team:0916b3c324c8577b0c6344f3e067f62      22  11.244567\n",
       "oe:team:0a9aa50beea19fcbc6b939fe6b94f08      14   1.278197\n",
       "oe:team:0b27fc98592297c4441bce44760a642       6   0.000000\n",
       "oe:team:0b65555ba9e97910fc1e7264a99fa24      45  -3.078771\n",
       "...                                         ...        ...\n",
       "oe:team:f73cbd69433514d61cf7c9cd0f5123a      44   0.000000\n",
       "oe:team:f7c0f545d3fc1860239d04b3ebe97f8      18 -15.077901\n",
       "oe:team:f7f7324c151aa6ed770b244ce08e027      22   5.444246\n",
       "oe:team:fc8e90107dabb9a35c490b0d86adea0      23   4.214634\n",
       "oe:team:fcec508e780bbd1ad493852640f5b36      38   3.974877\n",
       "\n",
       "[77 rows x 2 columns]"
      ]
     },
     "execution_count": 26,
     "metadata": {},
     "output_type": "execute_result"
    }
   ],
   "source": [
    "# 2022\n",
    "tmp = pd.DataFrame(filtered_df_2022.groupby('teamid').count().iloc[:, 0])\n",
    "gspd_in_2021 = filtered_df_2021.groupby('teamid')['gspd'].mean() * 100\n",
    "historical_gspd_2022 = pd.merge(tmp, gspd_in_2021, how='left', left_index=True, right_index=True)\n",
    "historical_gspd_2022.fillna(value=0, inplace=True)\n",
    "\n",
    "# 2023\n",
    "tmp = pd.DataFrame(filtered_df_2023.groupby('teamid').count().iloc[:, 0])\n",
    "gspd_in_2022 = filtered_df_2022.groupby('teamid')['gspd'].mean() * 100\n",
    "historical_gspd_2023 = pd.merge(tmp, gspd_in_2022, how='left', left_index=True, right_index=True)\n",
    "historical_gspd_2023.fillna(value=0, inplace=True)\n",
    "historical_gspd_2023"
   ]
  },
  {
   "cell_type": "markdown",
   "id": "2756c109",
   "metadata": {},
   "source": [
    "**Dynamic gspd troughout the season**"
   ]
  },
  {
   "cell_type": "code",
   "execution_count": 27,
   "id": "25df76ed",
   "metadata": {},
   "outputs": [
    {
     "data": {
      "text/html": [
       "<div>\n",
       "<style scoped>\n",
       "    .dataframe tbody tr th:only-of-type {\n",
       "        vertical-align: middle;\n",
       "    }\n",
       "\n",
       "    .dataframe tbody tr th {\n",
       "        vertical-align: top;\n",
       "    }\n",
       "\n",
       "    .dataframe thead th {\n",
       "        text-align: right;\n",
       "    }\n",
       "</style>\n",
       "<table border=\"1\" class=\"dataframe\">\n",
       "  <thead>\n",
       "    <tr style=\"text-align: right;\">\n",
       "      <th></th>\n",
       "      <th></th>\n",
       "      <th>index</th>\n",
       "      <th>gameid</th>\n",
       "      <th>gspd</th>\n",
       "    </tr>\n",
       "    <tr>\n",
       "      <th>teamid</th>\n",
       "      <th>date</th>\n",
       "      <th></th>\n",
       "      <th></th>\n",
       "      <th></th>\n",
       "    </tr>\n",
       "  </thead>\n",
       "  <tbody>\n",
       "    <tr>\n",
       "      <th rowspan=\"5\" valign=\"top\">oe:team:056c3140a119e44a03d462e2c832f27</th>\n",
       "      <th>2022-01-11 09:19:52</th>\n",
       "      <td>659</td>\n",
       "      <td>8403-8403_game_1</td>\n",
       "      <td>0.141056</td>\n",
       "    </tr>\n",
       "    <tr>\n",
       "      <th>2022-01-11 10:07:46</th>\n",
       "      <td>683</td>\n",
       "      <td>8403-8403_game_2</td>\n",
       "      <td>0.147540</td>\n",
       "    </tr>\n",
       "    <tr>\n",
       "      <th>2022-01-15 07:19:56</th>\n",
       "      <td>2663</td>\n",
       "      <td>8412-8412_game_1</td>\n",
       "      <td>0.227674</td>\n",
       "    </tr>\n",
       "    <tr>\n",
       "      <th>2022-01-15 08:04:52</th>\n",
       "      <td>2675</td>\n",
       "      <td>8412-8412_game_2</td>\n",
       "      <td>0.202819</td>\n",
       "    </tr>\n",
       "    <tr>\n",
       "      <th>2022-01-18 11:49:35</th>\n",
       "      <td>3911</td>\n",
       "      <td>8421-8421_game_1</td>\n",
       "      <td>0.176677</td>\n",
       "    </tr>\n",
       "    <tr>\n",
       "      <th>...</th>\n",
       "      <th>...</th>\n",
       "      <td>...</td>\n",
       "      <td>...</td>\n",
       "      <td>...</td>\n",
       "    </tr>\n",
       "    <tr>\n",
       "      <th rowspan=\"5\" valign=\"top\">oe:team:fcec508e780bbd1ad493852640f5b36</th>\n",
       "      <th>2022-09-01 09:19:25</th>\n",
       "      <td>130607</td>\n",
       "      <td>9362-9362_game_1</td>\n",
       "      <td>-0.071824</td>\n",
       "    </tr>\n",
       "    <tr>\n",
       "      <th>2022-09-01 10:18:46</th>\n",
       "      <td>130654</td>\n",
       "      <td>9362-9362_game_2</td>\n",
       "      <td>-0.003083</td>\n",
       "    </tr>\n",
       "    <tr>\n",
       "      <th>2022-09-01 11:33:44</th>\n",
       "      <td>130703</td>\n",
       "      <td>9362-9362_game_3</td>\n",
       "      <td>-0.016159</td>\n",
       "    </tr>\n",
       "    <tr>\n",
       "      <th>2022-09-01 12:32:57</th>\n",
       "      <td>130738</td>\n",
       "      <td>9362-9362_game_4</td>\n",
       "      <td>0.071786</td>\n",
       "    </tr>\n",
       "    <tr>\n",
       "      <th>2022-09-01 13:37:42</th>\n",
       "      <td>130751</td>\n",
       "      <td>9362-9362_game_5</td>\n",
       "      <td>-0.045600</td>\n",
       "    </tr>\n",
       "  </tbody>\n",
       "</table>\n",
       "<p>5006 rows × 3 columns</p>\n",
       "</div>"
      ],
      "text/plain": [
       "                                                              index  \\\n",
       "teamid                                  date                          \n",
       "oe:team:056c3140a119e44a03d462e2c832f27 2022-01-11 09:19:52     659   \n",
       "                                        2022-01-11 10:07:46     683   \n",
       "                                        2022-01-15 07:19:56    2663   \n",
       "                                        2022-01-15 08:04:52    2675   \n",
       "                                        2022-01-18 11:49:35    3911   \n",
       "...                                                             ...   \n",
       "oe:team:fcec508e780bbd1ad493852640f5b36 2022-09-01 09:19:25  130607   \n",
       "                                        2022-09-01 10:18:46  130654   \n",
       "                                        2022-09-01 11:33:44  130703   \n",
       "                                        2022-09-01 12:32:57  130738   \n",
       "                                        2022-09-01 13:37:42  130751   \n",
       "\n",
       "                                                                       gameid  \\\n",
       "teamid                                  date                                    \n",
       "oe:team:056c3140a119e44a03d462e2c832f27 2022-01-11 09:19:52  8403-8403_game_1   \n",
       "                                        2022-01-11 10:07:46  8403-8403_game_2   \n",
       "                                        2022-01-15 07:19:56  8412-8412_game_1   \n",
       "                                        2022-01-15 08:04:52  8412-8412_game_2   \n",
       "                                        2022-01-18 11:49:35  8421-8421_game_1   \n",
       "...                                                                       ...   \n",
       "oe:team:fcec508e780bbd1ad493852640f5b36 2022-09-01 09:19:25  9362-9362_game_1   \n",
       "                                        2022-09-01 10:18:46  9362-9362_game_2   \n",
       "                                        2022-09-01 11:33:44  9362-9362_game_3   \n",
       "                                        2022-09-01 12:32:57  9362-9362_game_4   \n",
       "                                        2022-09-01 13:37:42  9362-9362_game_5   \n",
       "\n",
       "                                                                 gspd  \n",
       "teamid                                  date                           \n",
       "oe:team:056c3140a119e44a03d462e2c832f27 2022-01-11 09:19:52  0.141056  \n",
       "                                        2022-01-11 10:07:46  0.147540  \n",
       "                                        2022-01-15 07:19:56  0.227674  \n",
       "                                        2022-01-15 08:04:52  0.202819  \n",
       "                                        2022-01-18 11:49:35  0.176677  \n",
       "...                                                               ...  \n",
       "oe:team:fcec508e780bbd1ad493852640f5b36 2022-09-01 09:19:25 -0.071824  \n",
       "                                        2022-09-01 10:18:46 -0.003083  \n",
       "                                        2022-09-01 11:33:44 -0.016159  \n",
       "                                        2022-09-01 12:32:57  0.071786  \n",
       "                                        2022-09-01 13:37:42 -0.045600  \n",
       "\n",
       "[5006 rows x 3 columns]"
      ]
     },
     "execution_count": 27,
     "metadata": {},
     "output_type": "execute_result"
    }
   ],
   "source": [
    "tmp = filtered_df_2022[['date', 'teamid', 'gameid', 'gspd']].reset_index().set_index(['teamid', 'date']).sort_index()\n",
    "tmp"
   ]
  },
  {
   "cell_type": "code",
   "execution_count": 28,
   "id": "a12be401",
   "metadata": {},
   "outputs": [
    {
     "data": {
      "text/plain": [
       "teamid                                   date               \n",
       "oe:team:056c3140a119e44a03d462e2c832f27  2022-01-11 09:19:52      0\n",
       "                                         2022-01-11 10:07:46      1\n",
       "                                         2022-01-15 07:19:56      2\n",
       "                                         2022-01-15 08:04:52      3\n",
       "                                         2022-01-18 11:49:35      4\n",
       "                                                               ... \n",
       "oe:team:fcec508e780bbd1ad493852640f5b36  2022-09-01 09:19:25    117\n",
       "                                         2022-09-01 10:18:46    118\n",
       "                                         2022-09-01 11:33:44    119\n",
       "                                         2022-09-01 12:32:57    120\n",
       "                                         2022-09-01 13:37:42    121\n",
       "Length: 5006, dtype: int64"
      ]
     },
     "execution_count": 28,
     "metadata": {},
     "output_type": "execute_result"
    }
   ],
   "source": [
    "tmp.groupby('teamid').cumcount() "
   ]
  },
  {
   "cell_type": "code",
   "execution_count": 29,
   "id": "64334186",
   "metadata": {},
   "outputs": [],
   "source": [
    "# 2022\n",
    "tmp = filtered_df_2022[['date', 'teamid', 'gameid', 'gspd']].reset_index().set_index(['teamid', 'date']).sort_index()\n",
    "games_played_dynamic = pd.DataFrame()\n",
    "\n",
    "# Need to adapt, so that the information is as before the game\n",
    "games_played_dynamic['total_games'] = tmp.groupby('teamid')['gspd'].cumcount() \n",
    "games_played_dynamic['dynamic_weighting'] = np.clip(0, games_played_dynamic['total_games']/n_games, 1) # dynamic weighting factor\n",
    "gspd_dynamic = pd.DataFrame(tmp.groupby('teamid')['gspd'].shift()).groupby('teamid')['gspd'].cumsum()\n",
    "\n",
    "tmp = pd.merge(tmp, games_played_dynamic,  how='left', left_on=['date','teamid'], right_on = ['date','teamid'])\n",
    "tmp = pd.merge(tmp, gspd_dynamic, how='left', left_on=['date','teamid'], right_on = ['date','teamid'])\n",
    "tmp['dynamic_gspd'] = tmp['gspd_y'] / tmp['total_games'] * 100\n",
    "\n",
    "tmp.fillna(value=0, inplace=True)\n",
    "dynamic_gspd_2022 = tmp\n",
    "\n",
    "# 2023\n",
    "tmp = filtered_df_2023[['date', 'teamid', 'gameid', 'gspd']].reset_index().set_index(['teamid', 'date']).sort_index()\n",
    "games_played_dynamic = pd.DataFrame()\n",
    "\n",
    "# Need to adapt, so that the information is as before the game\n",
    "games_played_dynamic['total_games'] = tmp.groupby('teamid')['gspd'].cumcount()\n",
    "games_played_dynamic['dynamic_weighting'] = np.clip(0, games_played_dynamic['total_games']/n_games, 1) # dynamic weighting factor\n",
    "gspd_dynamic = pd.DataFrame(tmp.groupby('teamid')['gspd'].shift()).groupby('teamid')['gspd'].cumsum()\n",
    "\n",
    "tmp = pd.merge(tmp, games_played_dynamic,  how='left', left_on=['date','teamid'], right_on = ['date','teamid'])\n",
    "tmp = pd.merge(tmp, gspd_dynamic, how='left', left_on=['date','teamid'], right_on = ['date','teamid'])\n",
    "tmp['dynamic_gspd'] = tmp['gspd_y'] / tmp['total_games'] * 100\n",
    "\n",
    "tmp.fillna(value=0, inplace=True)\n",
    "dynamic_gspd_2023 = tmp"
   ]
  },
  {
   "cell_type": "markdown",
   "id": "adab1b8f",
   "metadata": {},
   "source": [
    "**Mixing historical and dynamic gspd and concating 2022 and 2023 data**"
   ]
  },
  {
   "cell_type": "code",
   "execution_count": 30,
   "id": "8e52f38f",
   "metadata": {},
   "outputs": [],
   "source": [
    "gspd_2022 = pd.merge(dynamic_gspd_2022, historical_gspd_2022, how='left', left_on='teamid', right_on='teamid').reset_index()\n",
    "gspd_2022['mixed_gspd'] = gspd_2022['dynamic_gspd'] * gspd_2022['dynamic_weighting'] + gspd_2022['gspd'] * (1 - gspd_2022['dynamic_weighting'])\n",
    "\n",
    "gspd_2023 = pd.merge(dynamic_gspd_2023, historical_gspd_2023, how='left', left_on='teamid', right_on='teamid').reset_index()\n",
    "gspd_2023['mixed_gspd'] = gspd_2023['dynamic_gspd'] * gspd_2022['dynamic_weighting'] + gspd_2023['gspd'] * (1 - gspd_2022['dynamic_weighting'])\n",
    "\n",
    "gspd = pd.concat([gspd_2022, gspd_2023], ignore_index=True).set_index(['gameid_x', 'teamid'])['mixed_gspd']\n",
    "\n",
    "gspd.replace([np.inf, -np.inf], np.nan, inplace=True)\n",
    "gspd = gspd.fillna(method='bfill')"
   ]
  },
  {
   "cell_type": "markdown",
   "id": "624afd43",
   "metadata": {},
   "source": [
    "### Derivation of the \"Standardized vision score difference\" parameter"
   ]
  },
  {
   "cell_type": "markdown",
   "id": "11b8dac6",
   "metadata": {},
   "source": [
    "### Derivation of the \"Champion winrate difference\" parameter"
   ]
  },
  {
   "cell_type": "code",
   "execution_count": 31,
   "id": "88989302",
   "metadata": {},
   "outputs": [],
   "source": [
    "mapping = [\n",
    "    ['12.1', 12.01],\n",
    "    ['12.2', 12.02],\n",
    "    ['12.3', 12.03],\n",
    "    ['12.4', 12.04],\n",
    "    ['12.5', 12.05],\n",
    "    ['12.6', 12.06],\n",
    "    ['12.7', 12.07],\n",
    "    ['12.8', 12.08],\n",
    "    ['12.9', 12.09],\n",
    "    ['12.10', 12.1],\n",
    "    ['12.11', 12.11],\n",
    "    ['12.12', 12.12],\n",
    "    ['12.13', 12.13],\n",
    "    ['12.14', 12.14],\n",
    "    ['12.15', 12.15],\n",
    "    ['12.16', 12.16],\n",
    "    ['12.17', 12.17],\n",
    "    ['12.18', 12.18],\n",
    "    ['12.19', 12.19],\n",
    "    ['12.20', 12.2],\n",
    "    ['12.21', 12.21],\n",
    "    ['12.22', 12.22],\n",
    "    ['12.23', 12.23],\n",
    "    ['13.1', 13.01],\n",
    "    ['13.2', 13.02],\n",
    "    ['13.3', 13.03],\n",
    "    ['13.4', 13.04],\n",
    "    ['13.5', 13.05]\n",
    "]"
   ]
  },
  {
   "cell_type": "code",
   "execution_count": 32,
   "id": "e7c9ccd1",
   "metadata": {},
   "outputs": [],
   "source": [
    "map_df = pd.DataFrame(mapping, columns=['overview', 'raw_data_patch'])"
   ]
  },
  {
   "cell_type": "code",
   "execution_count": 33,
   "id": "eae44654",
   "metadata": {},
   "outputs": [
    {
     "data": {
      "text/html": [
       "<div>\n",
       "<style scoped>\n",
       "    .dataframe tbody tr th:only-of-type {\n",
       "        vertical-align: middle;\n",
       "    }\n",
       "\n",
       "    .dataframe tbody tr th {\n",
       "        vertical-align: top;\n",
       "    }\n",
       "\n",
       "    .dataframe thead th {\n",
       "        text-align: right;\n",
       "    }\n",
       "</style>\n",
       "<table border=\"1\" class=\"dataframe\">\n",
       "  <thead>\n",
       "    <tr style=\"text-align: right;\">\n",
       "      <th></th>\n",
       "      <th>patch</th>\n",
       "      <th>Win%</th>\n",
       "      <th>name_clean</th>\n",
       "    </tr>\n",
       "  </thead>\n",
       "  <tbody>\n",
       "    <tr>\n",
       "      <th>0</th>\n",
       "      <td>12.1</td>\n",
       "      <td>53.310</td>\n",
       "      <td>Aatrox</td>\n",
       "    </tr>\n",
       "    <tr>\n",
       "      <th>1</th>\n",
       "      <td>12.1</td>\n",
       "      <td>50.000</td>\n",
       "      <td>Ahri</td>\n",
       "    </tr>\n",
       "    <tr>\n",
       "      <th>2</th>\n",
       "      <td>12.1</td>\n",
       "      <td>51.955</td>\n",
       "      <td>Akali</td>\n",
       "    </tr>\n",
       "    <tr>\n",
       "      <th>3</th>\n",
       "      <td>12.1</td>\n",
       "      <td>55.135</td>\n",
       "      <td>Akshan</td>\n",
       "    </tr>\n",
       "    <tr>\n",
       "      <th>4</th>\n",
       "      <td>12.1</td>\n",
       "      <td>53.260</td>\n",
       "      <td>Alistar</td>\n",
       "    </tr>\n",
       "    <tr>\n",
       "      <th>...</th>\n",
       "      <td>...</td>\n",
       "      <td>...</td>\n",
       "      <td>...</td>\n",
       "    </tr>\n",
       "    <tr>\n",
       "      <th>4486</th>\n",
       "      <td>13.6</td>\n",
       "      <td>52.760</td>\n",
       "      <td>Zeri</td>\n",
       "    </tr>\n",
       "    <tr>\n",
       "      <th>4487</th>\n",
       "      <td>13.6</td>\n",
       "      <td>41.810</td>\n",
       "      <td>Ziggs</td>\n",
       "    </tr>\n",
       "    <tr>\n",
       "      <th>4488</th>\n",
       "      <td>13.6</td>\n",
       "      <td>50.980</td>\n",
       "      <td>Zilean</td>\n",
       "    </tr>\n",
       "    <tr>\n",
       "      <th>4489</th>\n",
       "      <td>13.6</td>\n",
       "      <td>59.800</td>\n",
       "      <td>Zoe</td>\n",
       "    </tr>\n",
       "    <tr>\n",
       "      <th>4490</th>\n",
       "      <td>13.6</td>\n",
       "      <td>62.710</td>\n",
       "      <td>Zyra</td>\n",
       "    </tr>\n",
       "  </tbody>\n",
       "</table>\n",
       "<p>4491 rows × 3 columns</p>\n",
       "</div>"
      ],
      "text/plain": [
       "     patch    Win% name_clean\n",
       "0     12.1  53.310     Aatrox\n",
       "1     12.1  50.000       Ahri\n",
       "2     12.1  51.955      Akali\n",
       "3     12.1  55.135     Akshan\n",
       "4     12.1  53.260    Alistar\n",
       "...    ...     ...        ...\n",
       "4486  13.6  52.760       Zeri\n",
       "4487  13.6  41.810      Ziggs\n",
       "4488  13.6  50.980     Zilean\n",
       "4489  13.6  59.800        Zoe\n",
       "4490  13.6  62.710       Zyra\n",
       "\n",
       "[4491 rows x 3 columns]"
      ]
     },
     "execution_count": 33,
     "metadata": {},
     "output_type": "execute_result"
    }
   ],
   "source": [
    "champions_wr_overview"
   ]
  },
  {
   "cell_type": "code",
   "execution_count": 34,
   "id": "a93a996e",
   "metadata": {},
   "outputs": [],
   "source": [
    "champions_wr_overview = pd.merge(champions_wr_overview, map_df, left_on='patch', right_on='overview')\n",
    "champions_wr_overview = champions_wr_overview.drop([\"patch\", \"overview\"], axis=1)\n",
    "champions_wr_overview = champions_wr_overview.set_index([\"raw_data_patch\", \"name_clean\"])"
   ]
  },
  {
   "cell_type": "code",
   "execution_count": 35,
   "id": "34a2e6b0",
   "metadata": {},
   "outputs": [
    {
     "ename": "ValueError",
     "evalue": "DataFrame constructor not properly called!",
     "output_type": "error",
     "traceback": [
      "\u001b[0;31m---------------------------------------------------------------------------\u001b[0m",
      "\u001b[0;31mValueError\u001b[0m                                Traceback (most recent call last)",
      "Cell \u001b[0;32mIn [35], line 3\u001b[0m\n\u001b[1;32m      1\u001b[0m \u001b[38;5;28;01mfor\u001b[39;00m i, series \u001b[38;5;129;01min\u001b[39;00m \u001b[38;5;28menumerate\u001b[39m(players):\n\u001b[1;32m      2\u001b[0m     \u001b[38;5;28;01mif\u001b[39;00m i \u001b[38;5;241m==\u001b[39m \u001b[38;5;241m0\u001b[39m:   \n\u001b[0;32m----> 3\u001b[0m         champions \u001b[38;5;241m=\u001b[39m \u001b[43mpd\u001b[49m\u001b[38;5;241;43m.\u001b[39;49m\u001b[43mDataFrame\u001b[49m\u001b[43m(\u001b[49m\u001b[43mseries\u001b[49m\u001b[43m)\u001b[49m\n\u001b[1;32m      4\u001b[0m         champions\u001b[38;5;241m.\u001b[39mcolumns \u001b[38;5;241m=\u001b[39m [\u001b[38;5;124m\"\u001b[39m\u001b[38;5;124mpatch\u001b[39m\u001b[38;5;124m\"\u001b[39m]\n\u001b[1;32m      5\u001b[0m     \u001b[38;5;28;01melse\u001b[39;00m:\n",
      "File \u001b[0;32m~/.pyenv/versions/3.10.6/envs/lewagon/lib/python3.10/site-packages/pandas/core/frame.py:756\u001b[0m, in \u001b[0;36mDataFrame.__init__\u001b[0;34m(self, data, index, columns, dtype, copy)\u001b[0m\n\u001b[1;32m    753\u001b[0m \u001b[38;5;66;03m# For data is scalar\u001b[39;00m\n\u001b[1;32m    754\u001b[0m \u001b[38;5;28;01melse\u001b[39;00m:\n\u001b[1;32m    755\u001b[0m     \u001b[38;5;28;01mif\u001b[39;00m index \u001b[38;5;129;01mis\u001b[39;00m \u001b[38;5;28;01mNone\u001b[39;00m \u001b[38;5;129;01mor\u001b[39;00m columns \u001b[38;5;129;01mis\u001b[39;00m \u001b[38;5;28;01mNone\u001b[39;00m:\n\u001b[0;32m--> 756\u001b[0m         \u001b[38;5;28;01mraise\u001b[39;00m \u001b[38;5;167;01mValueError\u001b[39;00m(\u001b[38;5;124m\"\u001b[39m\u001b[38;5;124mDataFrame constructor not properly called!\u001b[39m\u001b[38;5;124m\"\u001b[39m)\n\u001b[1;32m    758\u001b[0m     \u001b[38;5;66;03m# Argument 1 to \"ensure_index\" has incompatible type \"Collection[Any]\";\u001b[39;00m\n\u001b[1;32m    759\u001b[0m     \u001b[38;5;66;03m# expected \"Union[Union[Union[ExtensionArray, ndarray],\u001b[39;00m\n\u001b[1;32m    760\u001b[0m     \u001b[38;5;66;03m# Index, Series], Sequence[Any]]\"\u001b[39;00m\n\u001b[1;32m    761\u001b[0m     index \u001b[38;5;241m=\u001b[39m ensure_index(index)  \u001b[38;5;66;03m# type: ignore[arg-type]\u001b[39;00m\n",
      "\u001b[0;31mValueError\u001b[0m: DataFrame constructor not properly called!"
     ]
    }
   ],
   "source": [
    "for i, series in enumerate(players):\n",
    "    if i == 0:   \n",
    "        champions = pd.DataFrame(series)\n",
    "        champions.columns = [\"patch\"]\n",
    "    else:\n",
    "        champions[f\"player_{i}\"] = series\n",
    "\n",
    "champions = champions.dropna(axis=0)\n",
    "champions = champions.replace(['Nunu & Willump'], 'Eskimo')"
   ]
  },
  {
   "cell_type": "code",
   "execution_count": 37,
   "id": "3e1263cd",
   "metadata": {},
   "outputs": [],
   "source": [
    "champions = champions.dropna(axis=0)\n",
    "champions = champions.replace(['Nunu & Willump'], 'Eskimo')"
   ]
  },
  {
   "cell_type": "code",
   "execution_count": 38,
   "id": "e3399d87",
   "metadata": {},
   "outputs": [],
   "source": [
    "wr_chmp_player_1 = pd.merge(champions.reset_index(), champions_wr_overview, how='left', left_on=['patch', 'player_1'], right_on=['raw_data_patch', 'name_clean'])[\"Win%\"]\n",
    "wr_chmp_player_2 = pd.merge(champions.reset_index(), champions_wr_overview, how='left', left_on=['patch', 'player_2'], right_on=['raw_data_patch', 'name_clean'])[\"Win%\"]\n",
    "wr_chmp_player_3 = pd.merge(champions.reset_index(), champions_wr_overview, how='left', left_on=['patch', 'player_3'], right_on=['raw_data_patch', 'name_clean'])[\"Win%\"]\n",
    "wr_chmp_player_4 = pd.merge(champions.reset_index(), champions_wr_overview, how='left', left_on=['patch', 'player_4'], right_on=['raw_data_patch', 'name_clean'])[\"Win%\"]\n",
    "wr_chmp_player_5 = pd.merge(champions.reset_index(), champions_wr_overview, how='left', left_on=['patch', 'player_5'], right_on=['raw_data_patch', 'name_clean'])[\"Win%\"]\n",
    "wr_chmp_player_6 = pd.merge(champions.reset_index(), champions_wr_overview, how='left', left_on=['patch', 'player_6'], right_on=['raw_data_patch', 'name_clean'])[\"Win%\"]\n",
    "wr_chmp_player_7 = pd.merge(champions.reset_index(), champions_wr_overview, how='left', left_on=['patch', 'player_7'], right_on=['raw_data_patch', 'name_clean'])[\"Win%\"]\n",
    "wr_chmp_player_8 = pd.merge(champions.reset_index(), champions_wr_overview, how='left', left_on=['patch', 'player_8'], right_on=['raw_data_patch', 'name_clean'])[\"Win%\"]\n",
    "wr_chmp_player_9 = pd.merge(champions.reset_index(), champions_wr_overview, how='left', left_on=['patch', 'player_9'], right_on=['raw_data_patch', 'name_clean'])[\"Win%\"]\n",
    "wr_chmp_player_10 = pd.merge(champions.reset_index(), champions_wr_overview, how='left', left_on=['patch', 'player_10'], right_on=['raw_data_patch', 'name_clean'])[\"Win%\"]\n",
    "\n",
    "wr_chmp_player_1 = wr_chmp_player_1.replace([np.nan, 0],50)\n",
    "wr_chmp_player_2 = wr_chmp_player_2.replace([np.nan, 0],50)\n",
    "wr_chmp_player_3 = wr_chmp_player_3.replace([np.nan, 0],50)\n",
    "wr_chmp_player_4 = wr_chmp_player_4.replace([np.nan, 0],50)\n",
    "wr_chmp_player_5 = wr_chmp_player_5.replace([np.nan, 0],50)\n",
    "wr_chmp_player_6 = wr_chmp_player_6.replace([np.nan, 0],50)\n",
    "wr_chmp_player_7 = wr_chmp_player_7.replace([np.nan, 0],50)\n",
    "wr_chmp_player_8 = wr_chmp_player_8.replace([np.nan, 0],50)\n",
    "wr_chmp_player_9 = wr_chmp_player_9.replace([np.nan, 0],50)\n",
    "wr_chmp_player_10 = wr_chmp_player_10.replace([np.nan, 0],50)"
   ]
  },
  {
   "cell_type": "code",
   "execution_count": 39,
   "id": "e4d0820e",
   "metadata": {},
   "outputs": [],
   "source": [
    "wr_chmp_list = [\n",
    "    champions.reset_index()['gameid'],\n",
    "    wr_chmp_player_1,\n",
    "    wr_chmp_player_2,\n",
    "    wr_chmp_player_3,\n",
    "    wr_chmp_player_4,\n",
    "    wr_chmp_player_5,\n",
    "    wr_chmp_player_6,\n",
    "    wr_chmp_player_7,\n",
    "    wr_chmp_player_8,\n",
    "    wr_chmp_player_9,\n",
    "    wr_chmp_player_10,\n",
    "]"
   ]
  },
  {
   "cell_type": "code",
   "execution_count": 40,
   "id": "186fd002",
   "metadata": {},
   "outputs": [],
   "source": [
    "for i, series in enumerate(wr_chmp_list):\n",
    "    if i == 0:   \n",
    "        chmp_wr = pd.DataFrame(series)\n",
    "        chmp_wr.columns = [\"gameid\"]\n",
    "    else:\n",
    "        chmp_wr[f\"player_{i}\"] = series"
   ]
  },
  {
   "cell_type": "code",
   "execution_count": 41,
   "id": "d1e4198f",
   "metadata": {},
   "outputs": [],
   "source": [
    "chmp_wr['avg_blue_champion_wr'] = (chmp_wr['player_1'] + chmp_wr['player_2'] + chmp_wr['player_3'] + chmp_wr['player_4'] + chmp_wr['player_5'])/5"
   ]
  },
  {
   "cell_type": "code",
   "execution_count": 42,
   "id": "d032c8ee",
   "metadata": {},
   "outputs": [],
   "source": [
    "chmp_wr['avg_red_champion_wr'] = (chmp_wr['player_6'] + chmp_wr['player_7'] + chmp_wr['player_8'] + chmp_wr['player_9'] + chmp_wr['player_10'])/5"
   ]
  },
  {
   "cell_type": "code",
   "execution_count": 43,
   "id": "37497baa",
   "metadata": {},
   "outputs": [],
   "source": [
    "chmp_wr['chmp_wr_diff'] = chmp_wr['avg_blue_champion_wr'] - chmp_wr['avg_red_champion_wr']"
   ]
  },
  {
   "cell_type": "code",
   "execution_count": 44,
   "id": "2d16198e",
   "metadata": {},
   "outputs": [],
   "source": [
    "chmp_wr = chmp_wr[['gameid', 'chmp_wr_diff']]"
   ]
  },
  {
   "cell_type": "markdown",
   "id": "ed0d6919",
   "metadata": {},
   "source": [
    "### Summarizing the results and parameters from perspective of blue"
   ]
  },
  {
   "cell_type": "code",
   "execution_count": 45,
   "id": "cf9c5115",
   "metadata": {},
   "outputs": [],
   "source": [
    "only_blue_2022 = filtered_df_2022.loc[filtered_df_2022['side'].isin([\"Blue\"])].set_index('gameid')\n",
    "only_red_2022 = filtered_df_2022.loc[filtered_df_2022['side'].isin([\"Red\"])].set_index('gameid')\n",
    "\n",
    "only_blue_2023 = filtered_df_2023.loc[filtered_df_2023['side'].isin([\"Blue\"])].set_index('gameid')\n",
    "only_red_2023 = filtered_df_2023.loc[filtered_df_2023['side'].isin([\"Red\"])].set_index('gameid')\n",
    "\n",
    "blue_vs_red_2022 = pd.merge(only_blue_2022['teamid'], only_red_2022['teamid'], how='left', left_index=True, right_index=True)\n",
    "blue_vs_red_2023 = pd.merge(only_blue_2023['teamid'], only_red_2023['teamid'], how='left', left_index=True, right_index=True)\n",
    "\n",
    "blue_vs_red = pd.concat([blue_vs_red_2022, blue_vs_red_2023]).reset_index()\n",
    "blue_results = pd.concat([only_blue_2022[['result']], only_blue_2023[['result']]]).reset_index()"
   ]
  },
  {
   "cell_type": "code",
   "execution_count": 46,
   "id": "1c7bdc23",
   "metadata": {},
   "outputs": [
    {
     "data": {
      "text/html": [
       "<div>\n",
       "<style scoped>\n",
       "    .dataframe tbody tr th:only-of-type {\n",
       "        vertical-align: middle;\n",
       "    }\n",
       "\n",
       "    .dataframe tbody tr th {\n",
       "        vertical-align: top;\n",
       "    }\n",
       "\n",
       "    .dataframe thead th {\n",
       "        text-align: right;\n",
       "    }\n",
       "</style>\n",
       "<table border=\"1\" class=\"dataframe\">\n",
       "  <thead>\n",
       "    <tr style=\"text-align: right;\">\n",
       "      <th></th>\n",
       "      <th>gameid</th>\n",
       "      <th>teamid_x</th>\n",
       "      <th>teamid_y</th>\n",
       "    </tr>\n",
       "  </thead>\n",
       "  <tbody>\n",
       "    <tr>\n",
       "      <th>0</th>\n",
       "      <td>8401-8401_game_1</td>\n",
       "      <td>oe:team:f4c4528c6981e104a11ea7548630c23</td>\n",
       "      <td>oe:team:df80f468a3f9a722df056fe9104f052</td>\n",
       "    </tr>\n",
       "    <tr>\n",
       "      <th>1</th>\n",
       "      <td>8401-8401_game_2</td>\n",
       "      <td>oe:team:f4c4528c6981e104a11ea7548630c23</td>\n",
       "      <td>oe:team:df80f468a3f9a722df056fe9104f052</td>\n",
       "    </tr>\n",
       "    <tr>\n",
       "      <th>2</th>\n",
       "      <td>8402-8402_game_1</td>\n",
       "      <td>oe:team:33d17f3717f58e12a3da80b377221fb</td>\n",
       "      <td>oe:team:73f3126d91d35faa5d5ce34abadb865</td>\n",
       "    </tr>\n",
       "    <tr>\n",
       "      <th>3</th>\n",
       "      <td>8402-8402_game_2</td>\n",
       "      <td>oe:team:33d17f3717f58e12a3da80b377221fb</td>\n",
       "      <td>oe:team:73f3126d91d35faa5d5ce34abadb865</td>\n",
       "    </tr>\n",
       "    <tr>\n",
       "      <th>4</th>\n",
       "      <td>8402-8402_game_3</td>\n",
       "      <td>oe:team:73f3126d91d35faa5d5ce34abadb865</td>\n",
       "      <td>oe:team:33d17f3717f58e12a3da80b377221fb</td>\n",
       "    </tr>\n",
       "    <tr>\n",
       "      <th>...</th>\n",
       "      <td>...</td>\n",
       "      <td>...</td>\n",
       "      <td>...</td>\n",
       "    </tr>\n",
       "    <tr>\n",
       "      <th>3581</th>\n",
       "      <td>ESPORTSTMNT01_3335201</td>\n",
       "      <td>oe:team:cbfaf0ca2181f0903d2fcceb6c28f3b</td>\n",
       "      <td>oe:team:f7f7324c151aa6ed770b244ce08e027</td>\n",
       "    </tr>\n",
       "    <tr>\n",
       "      <th>3582</th>\n",
       "      <td>ESPORTSTMNT01_3333294</td>\n",
       "      <td>oe:team:cbfaf0ca2181f0903d2fcceb6c28f3b</td>\n",
       "      <td>oe:team:f7f7324c151aa6ed770b244ce08e027</td>\n",
       "    </tr>\n",
       "    <tr>\n",
       "      <th>3583</th>\n",
       "      <td>ESPORTSTMNT01_3333302</td>\n",
       "      <td>oe:team:cbfaf0ca2181f0903d2fcceb6c28f3b</td>\n",
       "      <td>oe:team:f7f7324c151aa6ed770b244ce08e027</td>\n",
       "    </tr>\n",
       "    <tr>\n",
       "      <th>3584</th>\n",
       "      <td>ESPORTSTMNT06_2778084</td>\n",
       "      <td>oe:team:7338408a0fe0217451d2c9a567db999</td>\n",
       "      <td>oe:team:8f995652631df209ff11c4542abdcaf</td>\n",
       "    </tr>\n",
       "    <tr>\n",
       "      <th>3585</th>\n",
       "      <td>ESPORTSTMNT06_2777123</td>\n",
       "      <td>oe:team:128d0cec08b877912eb91f94a1f3295</td>\n",
       "      <td>oe:team:78f183fa5a7d8ecb22b9ad272c3abd7</td>\n",
       "    </tr>\n",
       "  </tbody>\n",
       "</table>\n",
       "<p>3586 rows × 3 columns</p>\n",
       "</div>"
      ],
      "text/plain": [
       "                     gameid                                 teamid_x  \\\n",
       "0          8401-8401_game_1  oe:team:f4c4528c6981e104a11ea7548630c23   \n",
       "1          8401-8401_game_2  oe:team:f4c4528c6981e104a11ea7548630c23   \n",
       "2          8402-8402_game_1  oe:team:33d17f3717f58e12a3da80b377221fb   \n",
       "3          8402-8402_game_2  oe:team:33d17f3717f58e12a3da80b377221fb   \n",
       "4          8402-8402_game_3  oe:team:73f3126d91d35faa5d5ce34abadb865   \n",
       "...                     ...                                      ...   \n",
       "3581  ESPORTSTMNT01_3335201  oe:team:cbfaf0ca2181f0903d2fcceb6c28f3b   \n",
       "3582  ESPORTSTMNT01_3333294  oe:team:cbfaf0ca2181f0903d2fcceb6c28f3b   \n",
       "3583  ESPORTSTMNT01_3333302  oe:team:cbfaf0ca2181f0903d2fcceb6c28f3b   \n",
       "3584  ESPORTSTMNT06_2778084  oe:team:7338408a0fe0217451d2c9a567db999   \n",
       "3585  ESPORTSTMNT06_2777123  oe:team:128d0cec08b877912eb91f94a1f3295   \n",
       "\n",
       "                                     teamid_y  \n",
       "0     oe:team:df80f468a3f9a722df056fe9104f052  \n",
       "1     oe:team:df80f468a3f9a722df056fe9104f052  \n",
       "2     oe:team:73f3126d91d35faa5d5ce34abadb865  \n",
       "3     oe:team:73f3126d91d35faa5d5ce34abadb865  \n",
       "4     oe:team:33d17f3717f58e12a3da80b377221fb  \n",
       "...                                       ...  \n",
       "3581  oe:team:f7f7324c151aa6ed770b244ce08e027  \n",
       "3582  oe:team:f7f7324c151aa6ed770b244ce08e027  \n",
       "3583  oe:team:f7f7324c151aa6ed770b244ce08e027  \n",
       "3584  oe:team:8f995652631df209ff11c4542abdcaf  \n",
       "3585  oe:team:78f183fa5a7d8ecb22b9ad272c3abd7  \n",
       "\n",
       "[3586 rows x 3 columns]"
      ]
     },
     "execution_count": 46,
     "metadata": {},
     "output_type": "execute_result"
    }
   ],
   "source": [
    "blue_vs_red"
   ]
  },
  {
   "cell_type": "code",
   "execution_count": 47,
   "id": "b26c573d",
   "metadata": {},
   "outputs": [],
   "source": [
    "# Merge the blue side data (controlled by 'teamid_x' on the left side)\n",
    "model_df = pd.merge(blue_vs_red, wr, left_on=['gameid', 'teamid_x'], right_on=['gameid_x', 'teamid']) # wr blue side\n",
    "model_df = pd.merge(model_df, gspd, left_on=['gameid', 'teamid_x'], right_on=['gameid_x', 'teamid']) # gspd blue side\n",
    "\n",
    "# Merge the blue side data (controlled by 'teamid_y' on the left side)\n",
    "model_df = pd.merge(model_df, wr, left_on=['gameid', 'teamid_y'], right_on=['gameid_x', 'teamid']) # wr red side\n",
    "model_df = pd.merge(model_df, gspd, left_on=['gameid', 'teamid_y'], right_on=['gameid_x', 'teamid']) # gspd red side\n",
    "\n",
    "# Merge the results from blue perspective\n",
    "model_df = pd.merge(model_df, blue_results, left_on=['gameid'], right_on=['gameid'])"
   ]
  },
  {
   "cell_type": "code",
   "execution_count": 48,
   "id": "e6c954d0",
   "metadata": {},
   "outputs": [],
   "source": [
    "model_df['wr_diff'] = model_df['mixed_wr_x'] - model_df['mixed_wr_y']\n",
    "model_df['gspd_diff'] = model_df['mixed_gspd_x'] - model_df['mixed_gspd_y']\n",
    "\n",
    "# Merge the champion wr difference\n",
    "model_df = pd.merge(model_df, chmp_wr, left_on='gameid', right_on='gameid')\n",
    "\n",
    "# Merge the player experience difference\n",
    "model_df = pd.merge(model_df, exp, left_on='gameid', right_on='gameid')\n",
    "\n",
    "model_df = model_df.drop(['teamid_x', 'teamid_y', 'mixed_wr_x', 'mixed_gspd_x', 'mixed_wr_y', 'mixed_gspd_y'], axis=1)\n",
    "model_df = model_df.set_index('gameid')"
   ]
  },
  {
   "cell_type": "code",
   "execution_count": 49,
   "id": "0cd255e2",
   "metadata": {},
   "outputs": [
    {
     "data": {
      "text/html": [
       "<div>\n",
       "<style scoped>\n",
       "    .dataframe tbody tr th:only-of-type {\n",
       "        vertical-align: middle;\n",
       "    }\n",
       "\n",
       "    .dataframe tbody tr th {\n",
       "        vertical-align: top;\n",
       "    }\n",
       "\n",
       "    .dataframe thead th {\n",
       "        text-align: right;\n",
       "    }\n",
       "</style>\n",
       "<table border=\"1\" class=\"dataframe\">\n",
       "  <thead>\n",
       "    <tr style=\"text-align: right;\">\n",
       "      <th></th>\n",
       "      <th>result</th>\n",
       "      <th>wr_diff</th>\n",
       "      <th>gspd_diff</th>\n",
       "      <th>chmp_wr_diff</th>\n",
       "      <th>exp_diff</th>\n",
       "    </tr>\n",
       "    <tr>\n",
       "      <th>gameid</th>\n",
       "      <th></th>\n",
       "      <th></th>\n",
       "      <th></th>\n",
       "      <th></th>\n",
       "      <th></th>\n",
       "    </tr>\n",
       "  </thead>\n",
       "  <tbody>\n",
       "    <tr>\n",
       "      <th>8401-8401_game_1</th>\n",
       "      <td>1</td>\n",
       "      <td>10.947657</td>\n",
       "      <td>-0.720457</td>\n",
       "      <td>1.322000</td>\n",
       "      <td>-42.4</td>\n",
       "    </tr>\n",
       "    <tr>\n",
       "      <th>8401-8401_game_2</th>\n",
       "      <td>1</td>\n",
       "      <td>19.852891</td>\n",
       "      <td>-0.765656</td>\n",
       "      <td>0.932667</td>\n",
       "      <td>42.4</td>\n",
       "    </tr>\n",
       "    <tr>\n",
       "      <th>8402-8402_game_1</th>\n",
       "      <td>1</td>\n",
       "      <td>2.230769</td>\n",
       "      <td>1.290830</td>\n",
       "      <td>0.303000</td>\n",
       "      <td>-34.2</td>\n",
       "    </tr>\n",
       "    <tr>\n",
       "      <th>8402-8402_game_2</th>\n",
       "      <td>0</td>\n",
       "      <td>12.007692</td>\n",
       "      <td>4.148187</td>\n",
       "      <td>-0.188000</td>\n",
       "      <td>10.8</td>\n",
       "    </tr>\n",
       "    <tr>\n",
       "      <th>8402-8402_game_3</th>\n",
       "      <td>0</td>\n",
       "      <td>-1.784615</td>\n",
       "      <td>-3.824256</td>\n",
       "      <td>1.592000</td>\n",
       "      <td>-10.8</td>\n",
       "    </tr>\n",
       "    <tr>\n",
       "      <th>...</th>\n",
       "      <td>...</td>\n",
       "      <td>...</td>\n",
       "      <td>...</td>\n",
       "      <td>...</td>\n",
       "      <td>...</td>\n",
       "    </tr>\n",
       "    <tr>\n",
       "      <th>ESPORTSTMNT01_3335201</th>\n",
       "      <td>0</td>\n",
       "      <td>-14.358736</td>\n",
       "      <td>-5.384133</td>\n",
       "      <td>-0.759000</td>\n",
       "      <td>0.0</td>\n",
       "    </tr>\n",
       "    <tr>\n",
       "      <th>ESPORTSTMNT01_3333294</th>\n",
       "      <td>0</td>\n",
       "      <td>-15.934109</td>\n",
       "      <td>-5.613870</td>\n",
       "      <td>1.272000</td>\n",
       "      <td>0.0</td>\n",
       "    </tr>\n",
       "    <tr>\n",
       "      <th>ESPORTSTMNT01_3333302</th>\n",
       "      <td>0</td>\n",
       "      <td>-17.710963</td>\n",
       "      <td>-5.576791</td>\n",
       "      <td>-0.833000</td>\n",
       "      <td>0.0</td>\n",
       "    </tr>\n",
       "    <tr>\n",
       "      <th>ESPORTSTMNT06_2778084</th>\n",
       "      <td>1</td>\n",
       "      <td>38.874680</td>\n",
       "      <td>9.785572</td>\n",
       "      <td>-7.229000</td>\n",
       "      <td>0.0</td>\n",
       "    </tr>\n",
       "    <tr>\n",
       "      <th>ESPORTSTMNT06_2777123</th>\n",
       "      <td>1</td>\n",
       "      <td>2.216993</td>\n",
       "      <td>2.116824</td>\n",
       "      <td>0.672000</td>\n",
       "      <td>0.0</td>\n",
       "    </tr>\n",
       "  </tbody>\n",
       "</table>\n",
       "<p>3586 rows × 5 columns</p>\n",
       "</div>"
      ],
      "text/plain": [
       "                       result    wr_diff  gspd_diff  chmp_wr_diff  exp_diff\n",
       "gameid                                                                     \n",
       "8401-8401_game_1            1  10.947657  -0.720457      1.322000     -42.4\n",
       "8401-8401_game_2            1  19.852891  -0.765656      0.932667      42.4\n",
       "8402-8402_game_1            1   2.230769   1.290830      0.303000     -34.2\n",
       "8402-8402_game_2            0  12.007692   4.148187     -0.188000      10.8\n",
       "8402-8402_game_3            0  -1.784615  -3.824256      1.592000     -10.8\n",
       "...                       ...        ...        ...           ...       ...\n",
       "ESPORTSTMNT01_3335201       0 -14.358736  -5.384133     -0.759000       0.0\n",
       "ESPORTSTMNT01_3333294       0 -15.934109  -5.613870      1.272000       0.0\n",
       "ESPORTSTMNT01_3333302       0 -17.710963  -5.576791     -0.833000       0.0\n",
       "ESPORTSTMNT06_2778084       1  38.874680   9.785572     -7.229000       0.0\n",
       "ESPORTSTMNT06_2777123       1   2.216993   2.116824      0.672000       0.0\n",
       "\n",
       "[3586 rows x 5 columns]"
      ]
     },
     "execution_count": 49,
     "metadata": {},
     "output_type": "execute_result"
    }
   ],
   "source": [
    "model_df"
   ]
  },
  {
   "cell_type": "code",
   "execution_count": 77,
   "id": "244c24b3",
   "metadata": {},
   "outputs": [],
   "source": [
    "from sklearn.linear_model import LogisticRegression\n",
    "from sklearn.model_selection import train_test_split\n",
    "from sklearn.preprocessing import MinMaxScaler"
   ]
  },
  {
   "cell_type": "code",
   "execution_count": 78,
   "id": "5fb57356",
   "metadata": {},
   "outputs": [],
   "source": [
    "train = model_df[0:2800]\n",
    "test = model_df[2800:]"
   ]
  },
  {
   "cell_type": "code",
   "execution_count": 98,
   "id": "8976e807",
   "metadata": {},
   "outputs": [],
   "source": [
    "X_train = train[['wr_diff', 'gspd_diff']]\n",
    "y_train = train['result']\n",
    "\n",
    "X_test = test[['wr_diff', 'gspd_diff']]\n",
    "y_test = test['result']"
   ]
  },
  {
   "cell_type": "code",
   "execution_count": 99,
   "id": "a10d8f55",
   "metadata": {},
   "outputs": [],
   "source": [
    "scaler = MinMaxScaler()\n",
    "scaler.fit(X_train)\n",
    "\n",
    "X_train_std = scaler.transform(X_train)\n",
    "X_test_std = scaler.transform(X_test)"
   ]
  },
  {
   "cell_type": "code",
   "execution_count": 100,
   "id": "4c8d55bb",
   "metadata": {},
   "outputs": [
    {
     "data": {
      "text/html": [
       "<style>#sk-container-id-13 {color: black;background-color: white;}#sk-container-id-13 pre{padding: 0;}#sk-container-id-13 div.sk-toggleable {background-color: white;}#sk-container-id-13 label.sk-toggleable__label {cursor: pointer;display: block;width: 100%;margin-bottom: 0;padding: 0.3em;box-sizing: border-box;text-align: center;}#sk-container-id-13 label.sk-toggleable__label-arrow:before {content: \"▸\";float: left;margin-right: 0.25em;color: #696969;}#sk-container-id-13 label.sk-toggleable__label-arrow:hover:before {color: black;}#sk-container-id-13 div.sk-estimator:hover label.sk-toggleable__label-arrow:before {color: black;}#sk-container-id-13 div.sk-toggleable__content {max-height: 0;max-width: 0;overflow: hidden;text-align: left;background-color: #f0f8ff;}#sk-container-id-13 div.sk-toggleable__content pre {margin: 0.2em;color: black;border-radius: 0.25em;background-color: #f0f8ff;}#sk-container-id-13 input.sk-toggleable__control:checked~div.sk-toggleable__content {max-height: 200px;max-width: 100%;overflow: auto;}#sk-container-id-13 input.sk-toggleable__control:checked~label.sk-toggleable__label-arrow:before {content: \"▾\";}#sk-container-id-13 div.sk-estimator input.sk-toggleable__control:checked~label.sk-toggleable__label {background-color: #d4ebff;}#sk-container-id-13 div.sk-label input.sk-toggleable__control:checked~label.sk-toggleable__label {background-color: #d4ebff;}#sk-container-id-13 input.sk-hidden--visually {border: 0;clip: rect(1px 1px 1px 1px);clip: rect(1px, 1px, 1px, 1px);height: 1px;margin: -1px;overflow: hidden;padding: 0;position: absolute;width: 1px;}#sk-container-id-13 div.sk-estimator {font-family: monospace;background-color: #f0f8ff;border: 1px dotted black;border-radius: 0.25em;box-sizing: border-box;margin-bottom: 0.5em;}#sk-container-id-13 div.sk-estimator:hover {background-color: #d4ebff;}#sk-container-id-13 div.sk-parallel-item::after {content: \"\";width: 100%;border-bottom: 1px solid gray;flex-grow: 1;}#sk-container-id-13 div.sk-label:hover label.sk-toggleable__label {background-color: #d4ebff;}#sk-container-id-13 div.sk-serial::before {content: \"\";position: absolute;border-left: 1px solid gray;box-sizing: border-box;top: 0;bottom: 0;left: 50%;z-index: 0;}#sk-container-id-13 div.sk-serial {display: flex;flex-direction: column;align-items: center;background-color: white;padding-right: 0.2em;padding-left: 0.2em;position: relative;}#sk-container-id-13 div.sk-item {position: relative;z-index: 1;}#sk-container-id-13 div.sk-parallel {display: flex;align-items: stretch;justify-content: center;background-color: white;position: relative;}#sk-container-id-13 div.sk-item::before, #sk-container-id-13 div.sk-parallel-item::before {content: \"\";position: absolute;border-left: 1px solid gray;box-sizing: border-box;top: 0;bottom: 0;left: 50%;z-index: -1;}#sk-container-id-13 div.sk-parallel-item {display: flex;flex-direction: column;z-index: 1;position: relative;background-color: white;}#sk-container-id-13 div.sk-parallel-item:first-child::after {align-self: flex-end;width: 50%;}#sk-container-id-13 div.sk-parallel-item:last-child::after {align-self: flex-start;width: 50%;}#sk-container-id-13 div.sk-parallel-item:only-child::after {width: 0;}#sk-container-id-13 div.sk-dashed-wrapped {border: 1px dashed gray;margin: 0 0.4em 0.5em 0.4em;box-sizing: border-box;padding-bottom: 0.4em;background-color: white;}#sk-container-id-13 div.sk-label label {font-family: monospace;font-weight: bold;display: inline-block;line-height: 1.2em;}#sk-container-id-13 div.sk-label-container {text-align: center;}#sk-container-id-13 div.sk-container {/* jupyter's `normalize.less` sets `[hidden] { display: none; }` but bootstrap.min.css set `[hidden] { display: none !important; }` so we also need the `!important` here to be able to override the default hidden behavior on the sphinx rendered scikit-learn.org. See: https://github.com/scikit-learn/scikit-learn/issues/21755 */display: inline-block !important;position: relative;}#sk-container-id-13 div.sk-text-repr-fallback {display: none;}</style><div id=\"sk-container-id-13\" class=\"sk-top-container\"><div class=\"sk-text-repr-fallback\"><pre>LogisticRegression()</pre><b>In a Jupyter environment, please rerun this cell to show the HTML representation or trust the notebook. <br />On GitHub, the HTML representation is unable to render, please try loading this page with nbviewer.org.</b></div><div class=\"sk-container\" hidden><div class=\"sk-item\"><div class=\"sk-estimator sk-toggleable\"><input class=\"sk-toggleable__control sk-hidden--visually\" id=\"sk-estimator-id-13\" type=\"checkbox\" checked><label for=\"sk-estimator-id-13\" class=\"sk-toggleable__label sk-toggleable__label-arrow\">LogisticRegression</label><div class=\"sk-toggleable__content\"><pre>LogisticRegression()</pre></div></div></div></div></div>"
      ],
      "text/plain": [
       "LogisticRegression()"
      ]
     },
     "execution_count": 100,
     "metadata": {},
     "output_type": "execute_result"
    }
   ],
   "source": [
    "model = LogisticRegression()\n",
    "model.fit(X_train, y_train)"
   ]
  },
  {
   "cell_type": "code",
   "execution_count": 101,
   "id": "79a06b39",
   "metadata": {},
   "outputs": [
    {
     "data": {
      "text/plain": [
       "0.6501272264631043"
      ]
     },
     "execution_count": 101,
     "metadata": {},
     "output_type": "execute_result"
    }
   ],
   "source": [
    "model.score(X_test, y_test)"
   ]
  },
  {
   "cell_type": "code",
   "execution_count": 112,
   "id": "50e544d1",
   "metadata": {},
   "outputs": [
    {
     "data": {
      "text/html": [
       "<style>#sk-container-id-19 {color: black;background-color: white;}#sk-container-id-19 pre{padding: 0;}#sk-container-id-19 div.sk-toggleable {background-color: white;}#sk-container-id-19 label.sk-toggleable__label {cursor: pointer;display: block;width: 100%;margin-bottom: 0;padding: 0.3em;box-sizing: border-box;text-align: center;}#sk-container-id-19 label.sk-toggleable__label-arrow:before {content: \"▸\";float: left;margin-right: 0.25em;color: #696969;}#sk-container-id-19 label.sk-toggleable__label-arrow:hover:before {color: black;}#sk-container-id-19 div.sk-estimator:hover label.sk-toggleable__label-arrow:before {color: black;}#sk-container-id-19 div.sk-toggleable__content {max-height: 0;max-width: 0;overflow: hidden;text-align: left;background-color: #f0f8ff;}#sk-container-id-19 div.sk-toggleable__content pre {margin: 0.2em;color: black;border-radius: 0.25em;background-color: #f0f8ff;}#sk-container-id-19 input.sk-toggleable__control:checked~div.sk-toggleable__content {max-height: 200px;max-width: 100%;overflow: auto;}#sk-container-id-19 input.sk-toggleable__control:checked~label.sk-toggleable__label-arrow:before {content: \"▾\";}#sk-container-id-19 div.sk-estimator input.sk-toggleable__control:checked~label.sk-toggleable__label {background-color: #d4ebff;}#sk-container-id-19 div.sk-label input.sk-toggleable__control:checked~label.sk-toggleable__label {background-color: #d4ebff;}#sk-container-id-19 input.sk-hidden--visually {border: 0;clip: rect(1px 1px 1px 1px);clip: rect(1px, 1px, 1px, 1px);height: 1px;margin: -1px;overflow: hidden;padding: 0;position: absolute;width: 1px;}#sk-container-id-19 div.sk-estimator {font-family: monospace;background-color: #f0f8ff;border: 1px dotted black;border-radius: 0.25em;box-sizing: border-box;margin-bottom: 0.5em;}#sk-container-id-19 div.sk-estimator:hover {background-color: #d4ebff;}#sk-container-id-19 div.sk-parallel-item::after {content: \"\";width: 100%;border-bottom: 1px solid gray;flex-grow: 1;}#sk-container-id-19 div.sk-label:hover label.sk-toggleable__label {background-color: #d4ebff;}#sk-container-id-19 div.sk-serial::before {content: \"\";position: absolute;border-left: 1px solid gray;box-sizing: border-box;top: 0;bottom: 0;left: 50%;z-index: 0;}#sk-container-id-19 div.sk-serial {display: flex;flex-direction: column;align-items: center;background-color: white;padding-right: 0.2em;padding-left: 0.2em;position: relative;}#sk-container-id-19 div.sk-item {position: relative;z-index: 1;}#sk-container-id-19 div.sk-parallel {display: flex;align-items: stretch;justify-content: center;background-color: white;position: relative;}#sk-container-id-19 div.sk-item::before, #sk-container-id-19 div.sk-parallel-item::before {content: \"\";position: absolute;border-left: 1px solid gray;box-sizing: border-box;top: 0;bottom: 0;left: 50%;z-index: -1;}#sk-container-id-19 div.sk-parallel-item {display: flex;flex-direction: column;z-index: 1;position: relative;background-color: white;}#sk-container-id-19 div.sk-parallel-item:first-child::after {align-self: flex-end;width: 50%;}#sk-container-id-19 div.sk-parallel-item:last-child::after {align-self: flex-start;width: 50%;}#sk-container-id-19 div.sk-parallel-item:only-child::after {width: 0;}#sk-container-id-19 div.sk-dashed-wrapped {border: 1px dashed gray;margin: 0 0.4em 0.5em 0.4em;box-sizing: border-box;padding-bottom: 0.4em;background-color: white;}#sk-container-id-19 div.sk-label label {font-family: monospace;font-weight: bold;display: inline-block;line-height: 1.2em;}#sk-container-id-19 div.sk-label-container {text-align: center;}#sk-container-id-19 div.sk-container {/* jupyter's `normalize.less` sets `[hidden] { display: none; }` but bootstrap.min.css set `[hidden] { display: none !important; }` so we also need the `!important` here to be able to override the default hidden behavior on the sphinx rendered scikit-learn.org. See: https://github.com/scikit-learn/scikit-learn/issues/21755 */display: inline-block !important;position: relative;}#sk-container-id-19 div.sk-text-repr-fallback {display: none;}</style><div id=\"sk-container-id-19\" class=\"sk-top-container\"><div class=\"sk-text-repr-fallback\"><pre>KNeighborsClassifier(n_neighbors=65)</pre><b>In a Jupyter environment, please rerun this cell to show the HTML representation or trust the notebook. <br />On GitHub, the HTML representation is unable to render, please try loading this page with nbviewer.org.</b></div><div class=\"sk-container\" hidden><div class=\"sk-item\"><div class=\"sk-estimator sk-toggleable\"><input class=\"sk-toggleable__control sk-hidden--visually\" id=\"sk-estimator-id-19\" type=\"checkbox\" checked><label for=\"sk-estimator-id-19\" class=\"sk-toggleable__label sk-toggleable__label-arrow\">KNeighborsClassifier</label><div class=\"sk-toggleable__content\"><pre>KNeighborsClassifier(n_neighbors=65)</pre></div></div></div></div></div>"
      ],
      "text/plain": [
       "KNeighborsClassifier(n_neighbors=65)"
      ]
     },
     "execution_count": 112,
     "metadata": {},
     "output_type": "execute_result"
    }
   ],
   "source": [
    "from sklearn.neighbors import KNeighborsClassifier\n",
    "\n",
    "neigh = KNeighborsClassifier(n_neighbors=65)\n",
    "neigh.fit(X_train_std, y_train)"
   ]
  },
  {
   "cell_type": "code",
   "execution_count": 113,
   "id": "e5c7640b",
   "metadata": {},
   "outputs": [
    {
     "data": {
      "text/plain": [
       "0.6552162849872774"
      ]
     },
     "execution_count": 113,
     "metadata": {},
     "output_type": "execute_result"
    }
   ],
   "source": [
    "neigh.score(X_test_std, y_test)"
   ]
  },
  {
   "cell_type": "code",
   "execution_count": 114,
   "id": "2b55075f",
   "metadata": {},
   "outputs": [],
   "source": [
    "from sklearn.linear_model import SGDClassifier\n",
    "svc_bis = SGDClassifier(loss='hinge', penalty='l2', alpha=1/10)"
   ]
  },
  {
   "cell_type": "code",
   "execution_count": 115,
   "id": "325690d0",
   "metadata": {},
   "outputs": [
    {
     "data": {
      "text/html": [
       "<style>#sk-container-id-20 {color: black;background-color: white;}#sk-container-id-20 pre{padding: 0;}#sk-container-id-20 div.sk-toggleable {background-color: white;}#sk-container-id-20 label.sk-toggleable__label {cursor: pointer;display: block;width: 100%;margin-bottom: 0;padding: 0.3em;box-sizing: border-box;text-align: center;}#sk-container-id-20 label.sk-toggleable__label-arrow:before {content: \"▸\";float: left;margin-right: 0.25em;color: #696969;}#sk-container-id-20 label.sk-toggleable__label-arrow:hover:before {color: black;}#sk-container-id-20 div.sk-estimator:hover label.sk-toggleable__label-arrow:before {color: black;}#sk-container-id-20 div.sk-toggleable__content {max-height: 0;max-width: 0;overflow: hidden;text-align: left;background-color: #f0f8ff;}#sk-container-id-20 div.sk-toggleable__content pre {margin: 0.2em;color: black;border-radius: 0.25em;background-color: #f0f8ff;}#sk-container-id-20 input.sk-toggleable__control:checked~div.sk-toggleable__content {max-height: 200px;max-width: 100%;overflow: auto;}#sk-container-id-20 input.sk-toggleable__control:checked~label.sk-toggleable__label-arrow:before {content: \"▾\";}#sk-container-id-20 div.sk-estimator input.sk-toggleable__control:checked~label.sk-toggleable__label {background-color: #d4ebff;}#sk-container-id-20 div.sk-label input.sk-toggleable__control:checked~label.sk-toggleable__label {background-color: #d4ebff;}#sk-container-id-20 input.sk-hidden--visually {border: 0;clip: rect(1px 1px 1px 1px);clip: rect(1px, 1px, 1px, 1px);height: 1px;margin: -1px;overflow: hidden;padding: 0;position: absolute;width: 1px;}#sk-container-id-20 div.sk-estimator {font-family: monospace;background-color: #f0f8ff;border: 1px dotted black;border-radius: 0.25em;box-sizing: border-box;margin-bottom: 0.5em;}#sk-container-id-20 div.sk-estimator:hover {background-color: #d4ebff;}#sk-container-id-20 div.sk-parallel-item::after {content: \"\";width: 100%;border-bottom: 1px solid gray;flex-grow: 1;}#sk-container-id-20 div.sk-label:hover label.sk-toggleable__label {background-color: #d4ebff;}#sk-container-id-20 div.sk-serial::before {content: \"\";position: absolute;border-left: 1px solid gray;box-sizing: border-box;top: 0;bottom: 0;left: 50%;z-index: 0;}#sk-container-id-20 div.sk-serial {display: flex;flex-direction: column;align-items: center;background-color: white;padding-right: 0.2em;padding-left: 0.2em;position: relative;}#sk-container-id-20 div.sk-item {position: relative;z-index: 1;}#sk-container-id-20 div.sk-parallel {display: flex;align-items: stretch;justify-content: center;background-color: white;position: relative;}#sk-container-id-20 div.sk-item::before, #sk-container-id-20 div.sk-parallel-item::before {content: \"\";position: absolute;border-left: 1px solid gray;box-sizing: border-box;top: 0;bottom: 0;left: 50%;z-index: -1;}#sk-container-id-20 div.sk-parallel-item {display: flex;flex-direction: column;z-index: 1;position: relative;background-color: white;}#sk-container-id-20 div.sk-parallel-item:first-child::after {align-self: flex-end;width: 50%;}#sk-container-id-20 div.sk-parallel-item:last-child::after {align-self: flex-start;width: 50%;}#sk-container-id-20 div.sk-parallel-item:only-child::after {width: 0;}#sk-container-id-20 div.sk-dashed-wrapped {border: 1px dashed gray;margin: 0 0.4em 0.5em 0.4em;box-sizing: border-box;padding-bottom: 0.4em;background-color: white;}#sk-container-id-20 div.sk-label label {font-family: monospace;font-weight: bold;display: inline-block;line-height: 1.2em;}#sk-container-id-20 div.sk-label-container {text-align: center;}#sk-container-id-20 div.sk-container {/* jupyter's `normalize.less` sets `[hidden] { display: none; }` but bootstrap.min.css set `[hidden] { display: none !important; }` so we also need the `!important` here to be able to override the default hidden behavior on the sphinx rendered scikit-learn.org. See: https://github.com/scikit-learn/scikit-learn/issues/21755 */display: inline-block !important;position: relative;}#sk-container-id-20 div.sk-text-repr-fallback {display: none;}</style><div id=\"sk-container-id-20\" class=\"sk-top-container\"><div class=\"sk-text-repr-fallback\"><pre>SGDClassifier(alpha=0.1)</pre><b>In a Jupyter environment, please rerun this cell to show the HTML representation or trust the notebook. <br />On GitHub, the HTML representation is unable to render, please try loading this page with nbviewer.org.</b></div><div class=\"sk-container\" hidden><div class=\"sk-item\"><div class=\"sk-estimator sk-toggleable\"><input class=\"sk-toggleable__control sk-hidden--visually\" id=\"sk-estimator-id-20\" type=\"checkbox\" checked><label for=\"sk-estimator-id-20\" class=\"sk-toggleable__label sk-toggleable__label-arrow\">SGDClassifier</label><div class=\"sk-toggleable__content\"><pre>SGDClassifier(alpha=0.1)</pre></div></div></div></div></div>"
      ],
      "text/plain": [
       "SGDClassifier(alpha=0.1)"
      ]
     },
     "execution_count": 115,
     "metadata": {},
     "output_type": "execute_result"
    }
   ],
   "source": [
    "svc_bis.fit(X_train_std, y_train)"
   ]
  },
  {
   "cell_type": "code",
   "execution_count": 118,
   "id": "e0d12013",
   "metadata": {},
   "outputs": [
    {
     "data": {
      "text/plain": [
       "0.549618320610687"
      ]
     },
     "execution_count": 118,
     "metadata": {},
     "output_type": "execute_result"
    }
   ],
   "source": [
    "svc_bis.score(X_test_std, y_test)"
   ]
  },
  {
   "cell_type": "code",
   "execution_count": 70,
   "id": "161e0fdb",
   "metadata": {},
   "outputs": [
    {
     "data": {
      "text/plain": [
       "<AxesSubplot:xlabel='wr_diff', ylabel='Count'>"
      ]
     },
     "execution_count": 70,
     "metadata": {},
     "output_type": "execute_result"
    },
    {
     "data": {
      "image/png": "[encoded data removed]",
      "text/plain": [
       "<Figure size 640x480 with 1 Axes>"
      ]
     },
     "metadata": {},
     "output_type": "display_data"
    }
   ],
   "source": [
    "sns.histplot(model_df['wr_diff'])"
   ]
  },
  {
   "cell_type": "code",
   "execution_count": 71,
   "id": "85038f0a",
   "metadata": {},
   "outputs": [
    {
     "data": {
      "text/plain": [
       "<AxesSubplot:xlabel='chmp_wr_diff', ylabel='Count'>"
      ]
     },
     "execution_count": 71,
     "metadata": {},
     "output_type": "execute_result"
    },
    {
     "data": {
      "image/png": "[encoded data removed]",
      "text/plain": [
       "<Figure size 640x480 with 1 Axes>"
      ]
     },
     "metadata": {},
     "output_type": "display_data"
    }
   ],
   "source": [
    "sns.histplot(model_df['chmp_wr_diff'])"
   ]
  },
  {
   "cell_type": "code",
   "execution_count": 72,
   "id": "2131d7a1",
   "metadata": {},
   "outputs": [
    {
     "data": {
      "text/plain": [
       "<AxesSubplot:xlabel='exp_diff', ylabel='Count'>"
      ]
     },
     "execution_count": 72,
     "metadata": {},
     "output_type": "execute_result"
    },
    {
     "data": {
      "image/png": "[encoded data removed]",
      "text/plain": [
       "<Figure size 640x480 with 1 Axes>"
      ]
     },
     "metadata": {},
     "output_type": "display_data"
    }
   ],
   "source": [
    "sns.histplot(model_df['exp_diff'])"
   ]
  },
  {
   "cell_type": "code",
   "execution_count": null,
   "id": "76cd287b",
   "metadata": {},
   "outputs": [],
   "source": []
  }
 ],
 "metadata": {
  "kernelspec": {
   "display_name": "Python 3 (ipykernel)",
   "language": "python",
   "name": "python3"
  },
  "language_info": {
   "codemirror_mode": {
    "name": "ipython",
    "version": 3
   },
   "file_extension": ".py",
   "mimetype": "text/x-python",
   "name": "python",
   "nbconvert_exporter": "python",
   "pygments_lexer": "ipython3",
   "version": "3.10.6"
  },
  "toc": {
   "base_numbering": 1,
   "nav_menu": {},
   "number_sections": true,
   "sideBar": true,
   "skip_h1_title": false,
   "title_cell": "Table of Contents",
   "title_sidebar": "Contents",
   "toc_cell": false,
   "toc_position": {},
   "toc_section_display": true,
   "toc_window_display": false
  }
 },
 "nbformat": 4,
 "nbformat_minor": 5
}
