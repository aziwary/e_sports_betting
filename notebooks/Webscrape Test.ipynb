{
 "cells": [
  {
   "cell_type": "code",
   "execution_count": 1,
   "id": "e58b2b6a",
   "metadata": {},
   "outputs": [],
   "source": [
    "import pandas as pd\n",
    "import numpy as np\n",
    "import seaborn as sns\n",
    "\n",
    "import requests\n",
    "from bs4 import BeautifulSoup\n",
    "\n",
    "%matplotlib inline\n",
    "import matplotlib\n",
    "\n",
    "import re"
   ]
  },
  {
   "cell_type": "code",
   "execution_count": 2,
   "id": "ae418d9d",
   "metadata": {},
   "outputs": [
    {
     "ename": "AttributeError",
     "evalue": "'NoneType' object has no attribute 'find_all'",
     "output_type": "error",
     "traceback": [
      "\u001b[0;31m---------------------------------------------------------------------------\u001b[0m",
      "\u001b[0;31mAttributeError\u001b[0m                            Traceback (most recent call last)",
      "Cell \u001b[0;32mIn [2], line 4\u001b[0m\n\u001b[1;32m      2\u001b[0m r \u001b[38;5;241m=\u001b[39m requests\u001b[38;5;241m.\u001b[39mget(url)\n\u001b[1;32m      3\u001b[0m andres \u001b[38;5;241m=\u001b[39m BeautifulSoup(r\u001b[38;5;241m.\u001b[39mtext)\n\u001b[0;32m----> 4\u001b[0m options \u001b[38;5;241m=\u001b[39m \u001b[43mandres\u001b[49m\u001b[38;5;241;43m.\u001b[39;49m\u001b[43mfind\u001b[49m\u001b[43m(\u001b[49m\u001b[38;5;124;43m\"\u001b[39;49m\u001b[38;5;124;43mselect\u001b[39;49m\u001b[38;5;124;43m\"\u001b[39;49m\u001b[43m,\u001b[49m\u001b[38;5;28;43mid\u001b[39;49m\u001b[38;5;241;43m=\u001b[39;49m\u001b[38;5;124;43m\"\u001b[39;49m\u001b[38;5;124;43mpatch\u001b[39;49m\u001b[38;5;124;43m\"\u001b[39;49m\u001b[43m)\u001b[49m\u001b[38;5;241;43m.\u001b[39;49m\u001b[43mfind_all\u001b[49m(\u001b[38;5;124m\"\u001b[39m\u001b[38;5;124moption\u001b[39m\u001b[38;5;124m\"\u001b[39m)\n",
      "\u001b[0;31mAttributeError\u001b[0m: 'NoneType' object has no attribute 'find_all'"
     ]
    }
   ],
   "source": [
    "url = \"https://gol.gg/champion/list/season-S11/split-ALL/tournament-ALL/\"\n",
    "r = requests.get(url)\n",
    "andres = BeautifulSoup(r.text)\n",
    "options = andres.find(\"select\",id=\"patch\").find_all(\"option\")"
   ]
  },
  {
   "cell_type": "code",
   "execution_count": 4,
   "id": "39ab82e0",
   "metadata": {},
   "outputs": [
    {
     "data": {
      "text/plain": [
       "<!DOCTYPE HTML PUBLIC \"-//IETF//DTD HTML 2.0//EN\">\n",
       "<html><head>\n",
       "<title>403 Forbidden</title>\n",
       "</head><body>\n",
       "<h1>Forbidden</h1>\n",
       "<p>You don't have permission to access this resource.</p>\n",
       "<hr/>\n",
       "<address>Apache/2.4.52 (Ubuntu) Server at gol.gg Port 443</address>\n",
       "</body></html>"
      ]
     },
     "execution_count": 4,
     "metadata": {},
     "output_type": "execute_result"
    }
   ],
   "source": [
    "andres"
   ]
  },
  {
   "cell_type": "code",
   "execution_count": null,
   "id": "bd42dfd7",
   "metadata": {},
   "outputs": [],
   "source": []
  },
  {
   "cell_type": "code",
   "execution_count": null,
   "id": "8adcc187",
   "metadata": {},
   "outputs": [],
   "source": [
    "bburl = \"https://www.metasrc.com/5v5/stats?ranks=challenger\"\n",
    "r = requests.get(url)\n",
    "andres = BeautifulSoup(r.text)\n",
    "options = andres.find(\"select\",id=\"patch\").find_all(\"option\")\n",
    "\n",
    "def get_champion_data(url):\n",
    "    r = requests.get(url)\n",
    "    return pd.read_html(r.text)[0]\n",
    "\n",
    "urls = []  # create an empty list to store the URLs\n",
    "for option in options:\n",
    "    value = option[\"value\"]\n",
    "    if float(value) >= 12.1:\n",
    "        url = f\"https://www.metasrc.com/5v5/{value}/stats?ranks=challenger\"\n",
    "        urls.append(url)\n",
    "        new_value = value.replace(\".\",\"_\")\n",
    "        get_champion_data(url).to_csv(f\"Champions_dataframe/patch_{new_value}.csv\")\n",
    "        \n",
    "        \n",
    "urls = []\n",
    "for option in options:\n",
    "    value = option[\"value\"]\n",
    "    if float(value) >= 12.1:\n",
    "        url = f\"https://www.metasrc.com/5v5/{value}/stats?ranks=challenger\"\n",
    "        new_value = value.replace(\".\", \"_\")\n",
    "        champion_data = get_champion_data(url)\n",
    "        champion_data[\"patch\"] = value\n",
    "        champion_data = champion_data[[\"Name\", \"Win %\", \"patch\"]]\n",
    "        champion_data.to_csv(f\"Champions_dataframe/patch_{new_value}.csv\")\n",
    "        urls.append(champion_data)\n",
    "\n",
    "# concatenate all the data frames into a single data frame\n",
    "final_df = pd.concat(urls, ignore_index=True)\n",
    "\n",
    "# save the final data frame to a single CSV file\n",
    "final_df.to_csv(\"Champions_dataframe/all_patches.csv\", index=False)"
   ]
  },
  {
   "cell_type": "code",
   "execution_count": null,
   "id": "9d1c96a0",
   "metadata": {},
   "outputs": [],
   "source": []
  },
  {
   "cell_type": "code",
   "execution_count": null,
   "id": "c38ffc0e",
   "metadata": {},
   "outputs": [],
   "source": []
  },
  {
   "cell_type": "code",
   "execution_count": null,
   "id": "7c73fd94",
   "metadata": {},
   "outputs": [],
   "source": []
  },
  {
   "cell_type": "code",
   "execution_count": null,
   "id": "a362cee2",
   "metadata": {},
   "outputs": [],
   "source": []
  }
 ],
 "metadata": {
  "kernelspec": {
   "display_name": "Python 3 (ipykernel)",
   "language": "python",
   "name": "python3"
  },
  "language_info": {
   "codemirror_mode": {
    "name": "ipython",
    "version": 3
   },
   "file_extension": ".py",
   "mimetype": "text/x-python",
   "name": "python",
   "nbconvert_exporter": "python",
   "pygments_lexer": "ipython3",
   "version": "3.10.6"
  },
  "toc": {
   "base_numbering": 1,
   "nav_menu": {},
   "number_sections": true,
   "sideBar": true,
   "skip_h1_title": false,
   "title_cell": "Table of Contents",
   "title_sidebar": "Contents",
   "toc_cell": false,
   "toc_position": {},
   "toc_section_display": true,
   "toc_window_display": false
  }
 },
 "nbformat": 4,
 "nbformat_minor": 5
}
